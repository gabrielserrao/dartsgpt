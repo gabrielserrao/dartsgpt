{
 "cells": [
  {
   "cell_type": "markdown",
   "id": "53d761d3-0671-4e96-8b29-be1a5541befc",
   "metadata": {},
   "source": [
    "# 1. Equations of state\n",
    "\n",
    "<img style = \"float: left;\" src = \"slides/1a_VdW.png\" width = \"60%\">\n",
    "<img style = \"float: left;\" src = \"slides/1b_Cubic.png\" width = \"60%\">"
   ]
  },
  {
   "cell_type": "markdown",
   "id": "9b748617-dec3-4001-8a74-feadcb159967",
   "metadata": {},
   "source": [
    "## 1.1. PVT behaviour of CO$_2$\n",
    "In this section, we will have a look at the PVT relationship for CO2 as described by a cubic EoS.\n",
    "\n",
    "Rather than (P,T), the EoS is explicitly expressed in terms of P(T,V)."
   ]
  },
  {
   "cell_type": "code",
   "execution_count": null,
   "id": "fccfe7606f1b2818",
   "metadata": {},
   "outputs": [],
   "source": [
    "import numpy as np\n",
    "import matplotlib.pyplot as plt\n",
    "from dartsflash.pyflash import PyFlash\n",
    "from dartsflash.mixtures import Mixture\n",
    "from dartsflash.libflash import CubicEoS\n",
    "\n",
    "# Define mixture and initialize Flash object\n",
    "mix = Mixture(components=[\"CO2\"])\n",
    "f = PyFlash(mixture=mix)\n",
    "\n",
    "# Add CubicEoS object\n",
    "f.add_eos(\"CEOS\", CubicEoS(mix.comp_data, CubicEoS.PR))\n",
    "ceos = f.eos[\"CEOS\"]\n",
    "\n",
    "# Define range of molar volumes for x-axis\n",
    "Vmax = ceos.V(p=10, T=273.15, n=[1.])\n",
    "Vmin = ceos.V(p=200, T=273.15, n=[1.])\n",
    "\n",
    "# Define state specification, compositions and properties to evaluate\n",
    "state_spec = {\"volume\": np.linspace(Vmin, Vmax, 1000),\n",
    "              \"temperature\": np.array([273, 293, 304, 313]),\n",
    "             }\n",
    "compositions = {\"CO2\": 1.}\n",
    "dims_order = [\"volume\", \"temperature\"]\n",
    "properties = {\"P\": ceos.P,\n",
    "              \"Z\": ceos.Zv,\n",
    "             }\n",
    "\n",
    "# Calculate pressure at each (T,V)\n",
    "vt_props = f.evaluate_properties_1p(state_spec=state_spec, compositions=compositions,\n",
    "                                    properties_to_evaluate=properties, mole_fractions=True, print_state=\"VT props\")\n",
    "\n",
    "# Plot P-V diagram\n",
    "from dartsflash.plot import PlotEoS\n",
    "pv_plot = PlotEoS.pressure_volume(f, temperatures=state_spec[\"temperature\"], compositions=[1.],\n",
    "                                  pt_props=None, vt_props=vt_props, vrange=[0, 6e-4], prange=[0, 100])\n",
    "pz_plot = PlotEoS.compressibility(f, temperatures=state_spec[\"temperature\"], compositions=[1.],\n",
    "                                  pt_props=None, vt_props=vt_props, zrange=[-0.1, 1.1], prange=[-25, 200])"
   ]
  },
  {
   "cell_type": "markdown",
   "id": "374e1c9d-b7da-47dd-b6b5-6af8f6038b7b",
   "metadata": {},
   "source": [
    "### <font color='Red'> Excersise: compute and plot solutions for 2 more values of p and T"
   ]
  },
  {
   "cell_type": "markdown",
   "id": "e5b29a09b642bf11",
   "metadata": {},
   "source": [
    "## 1.2. Compressibility factor Z\n",
    "In order to calculate thermodynamic properties at a given (P,T), we have to solve for volume.\n",
    "\n",
    "<img style = \"float: left;\" src = \"slides/1d_Z.png\" width = \"60%\">"
   ]
  },
  {
   "cell_type": "code",
   "execution_count": null,
   "id": "fe3ba6deb82fcc0f",
   "metadata": {},
   "outputs": [],
   "source": [
    "# Find the volume roots at given (P,T)\n",
    "p, t = 30, 273\n",
    "ceos.solve_PT(p=p, T=t, n=[1.])\n",
    "Z = np.array(ceos.Z())\n",
    "Zmin, Zmax = np.amin(Z[np.imag(Z) == 0]), np.amax(Z[np.imag(Z) == 0])\n",
    "R = 8.314472e-5  # m3.bar/mol.K\n",
    "Vl, Vv = np.real(Zmin) * R * t / p, np.real(Zmax) * R * t / p\n",
    "\n",
    "print(Vl, Vv)\n",
    "\n",
    "# Evaluate the Z-factor at (Pc,Tc)\n",
    "Pc, Tc = mix.comp_data.Pc[0], mix.comp_data.Tc[0]\n",
    "Vc = ceos.V(p=Pc+1e-10, T=Tc, n=[1.])\n",
    "Zc = ceos.Z()\n",
    "\n",
    "pv_plot = PlotEoS.pressure_volume(f, temperatures=state_spec[\"temperature\"], compositions=[1.],\n",
    "                                  pt_props=None, vt_props=vt_props, vrange=[0, 6e-4], prange=[0, 100])\n",
    "pv_plot.draw_line(x=[Vl, Vv], y=[p, p], colours=pv_plot.colours[0], linestyle=\"dashed\")\n",
    "pv_plot.draw_point(X=Vc, Y=Pc, colours=pv_plot.colours[2])\n",
    "\n",
    "pz_plot = PlotEoS.compressibility(f, temperatures=state_spec[\"temperature\"], compositions=[1.],\n",
    "                                  pt_props=None, vt_props=vt_props, zrange=[-0.1, 1.1], prange=[-25, 200])\n",
    "pz_plot.draw_line(x=[p, p], y=[np.real(Zmin), np.real(Zmax)], colours=pv_plot.colours[0], linestyle=\"dashed\")\n",
    "pz_plot.draw_point(X=Pc, Y=Zc, colours=pv_plot.colours[2])"
   ]
  },
  {
   "cell_type": "markdown",
   "id": "e9ebec6cc7476919",
   "metadata": {},
   "source": [
    "## 1.3. Thermodynamic properties from an EoS\n",
    "<img style = \"float: left;\" src = \"slides/1e_fugacity.png\" width = \"60%\">\n",
    "<img style = \"float: left;\" src = \"slides/1g_thermodynamic_props.png\" width = \"60%\">"
   ]
  },
  {
   "cell_type": "code",
   "execution_count": null,
   "id": "58a44dc7ae991027",
   "metadata": {},
   "outputs": [],
   "source": [
    "# Evaluate enthalpy and entropy of CO2\n",
    "state_spec = {\"temperature\": np.arange(248, 348, 0.1),\n",
    "              \"pressure\": np.array([25, 50, 75, 100]),\n",
    "             }\n",
    "compositions = {\"CO2\": 1.}\n",
    "properties = {\"H\": ceos.H_PT, \"S\": ceos.S_PT}\n",
    "\n",
    "results = f.evaluate_properties_1p(state_spec=state_spec, compositions=compositions,\n",
    "                                   properties_to_evaluate=properties, mole_fractions=True)\n"
   ]
  },
  {
   "cell_type": "code",
   "execution_count": null,
   "id": "7bb0131b427e8fc1",
   "metadata": {},
   "outputs": [],
   "source": [
    "# Get NIST data and plot\n",
    "from ref_data import get_nist_data\n",
    "\n",
    "R = 8.3144772\n",
    "\n",
    "num_curves = len(state_spec[\"pressure\"])\n",
    "ref_T, ref_H, ref_S = [[] for i in range(num_curves)], [[] for i in range(num_curves)], [[] for i in range(num_curves)]\n",
    "\n",
    "for i, p in enumerate(state_spec[\"pressure\"]):\n",
    "    nist_data = get_nist_data(component=\"CO2\", temperature=np.arange(250, 351, 10), pressure=p, include_phase_boundary=True)\n",
    "    ref_T[i] = nist_data[\"temperature\"]\n",
    "    ref_H[i] = nist_data[\"enthalpy\"]\n",
    "    ref_S[i] = nist_data[\"entropy\"]\n",
    "\n",
    "for i in range(num_curves):\n",
    "    H0 = ref_H[i][0]\n",
    "    ref_H[i][:] = [(Hj - H0) * 1e3 for Hj in ref_H[i][:]]  # set reference value of enthalpy and convert kJ/mol to J/mol\n",
    "    S0 = ref_S[i][0]\n",
    "    ref_S[i][:] = [(Sj - S0) * 1e3 for Sj in ref_S[i][:]]  # set reference value of entropy and convert kJ/mol to J/mol\n",
    "\n",
    "T = [state_spec[\"temperature\"] for i in range(num_curves)]\n",
    "H0 = results.isel(pressure=0).H.values[0]  # set reference value of enthalpy at first value\n",
    "H = [(results.isel(pressure=i).H.values - H0) * R for i, pres in enumerate(state_spec[\"pressure\"])]\n",
    "S0 = results.isel(pressure=0).S.values[0]  # set reference value of entropy at first value\n",
    "S = [(results.isel(pressure=i).S.values - S0) * R for i, pres in enumerate(state_spec[\"pressure\"])]\n",
    "labels = [\"{:.1f} bar\".format(pres) for pres in state_spec[\"pressure\"]]\n",
    "\n",
    "from dartsflash.diagram import Plot\n",
    "H_plot = Plot()\n",
    "H_plot.draw_plot(xdata=T, ydata=H, logy=False, datalabels=labels)\n",
    "H_plot.draw_refdata(xref=ref_T, yref=ref_H)\n",
    "H_plot.add_attributes(title=\"Enthalpy of \" + f.mixture.name, ax_labels=[\"temperature, K\", r\"$\\Delta$H, J/mol\"], legend=True)\n",
    "\n",
    "S_plot = Plot()\n",
    "S_plot.draw_plot(xdata=T, ydata=S, logy=False, datalabels=labels)\n",
    "S_plot.draw_refdata(xref=ref_T, yref=ref_S)\n",
    "S_plot.add_attributes(title=\"Entropy of \" + f.mixture.name, ax_labels=[\"temperature, K\", r\"$\\Delta$S, J/mol\"], legend=True)"
   ]
  },
  {
   "cell_type": "code",
   "execution_count": null,
   "id": "cf703454c3b7b5b",
   "metadata": {},
   "outputs": [],
   "source": []
  },
  {
   "cell_type": "code",
   "execution_count": null,
   "id": "6e6e51dd7a990c72",
   "metadata": {},
   "outputs": [],
   "source": []
  },
  {
   "cell_type": "code",
   "execution_count": null,
   "id": "7a6ef5b0-3ed4-426c-afeb-f4af81bd0e05",
   "metadata": {},
   "outputs": [],
   "source": []
  }
 ],
 "metadata": {
  "kernelspec": {
   "display_name": "Python 3 (ipykernel)",
   "language": "python",
   "name": "python3"
  },
  "language_info": {
   "codemirror_mode": {
    "name": "ipython",
    "version": 3
   },
   "file_extension": ".py",
   "mimetype": "text/x-python",
   "name": "python",
   "nbconvert_exporter": "python",
   "pygments_lexer": "ipython3",
   "version": "3.11.10"
  }
 },
 "nbformat": 4,
 "nbformat_minor": 5
}
