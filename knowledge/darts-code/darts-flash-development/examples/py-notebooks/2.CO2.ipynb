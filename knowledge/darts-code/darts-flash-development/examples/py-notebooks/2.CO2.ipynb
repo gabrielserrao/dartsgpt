{
 "cells": [
  {
   "cell_type": "markdown",
   "id": "bf96955e",
   "metadata": {},
   "source": [
    "# 2. Properties of CO$_2$"
   ]
  },
  {
   "cell_type": "markdown",
   "id": "ed7e53b1",
   "metadata": {},
   "source": [
    "## 2.1. Pure CO$_2$ enthalpy and Joule-Thomson coefficient"
   ]
  },
  {
   "cell_type": "code",
   "execution_count": null,
   "id": "672df006-e0b7-4582-a71b-7b7ba3503b21",
   "metadata": {},
   "outputs": [],
   "source": [
    "import numpy as np\n",
    "import xarray as xr\n",
    "from dartsflash.pyflash import PyFlash\n",
    "from dartsflash.mixtures import Mixture\n",
    "from dartsflash.libflash import CubicEoS\n",
    "\n",
    "\n",
    "R = 8.3144772  # gas constant\n",
    "\n",
    "# Define mixture and initialize Flash object\n",
    "mix = Mixture(components=[\"CO2\"])\n",
    "f = PyFlash(mixture=mix)\n",
    "\n",
    "# Add CubicEoS object\n",
    "f.add_eos(\"CEOS\", CubicEoS(mix.comp_data, CubicEoS.PR))\n",
    "ceos = f.eos[\"CEOS\"]\n",
    "\n",
    "# Plot enthalpy diagram\n",
    "state_spec = {\"temperature\": np.arange(273, 423, 1),\n",
    "              \"pressure\": np.arange(1, 200, 1),\n",
    "             }\n",
    "compositions = {\"CO2\": 1.}\n",
    "properties = {\"H\": ceos.H_PT,\n",
    "              \"JT\": ceos.JT,\n",
    "             }\n",
    "\n",
    "pt_props = f.evaluate_properties_1p(state_spec=state_spec, compositions=compositions,\n",
    "                                    properties_to_evaluate=properties, mole_fractions=True)"
   ]
  },
  {
   "cell_type": "markdown",
   "id": "f03f2a0d-2466-4034-ab94-6aea25f83ab5",
   "metadata": {},
   "source": [
    "## 2.1a. Enthalpy"
   ]
  },
  {
   "cell_type": "code",
   "execution_count": null,
   "id": "79fe3db6-d45c-4ffd-bbaf-8fc0f2f6d836",
   "metadata": {},
   "outputs": [],
   "source": [
    "# Plot PT diagram of CO2 enthalpy\n",
    "from dartsflash.plot import PlotEoS\n",
    "pt = PlotEoS.surf(f, pt_props, x_var=\"temperature\", y_var=\"pressure\", prop_names=[\"H\"], composition=[1.])\n",
    "pt.draw_point(X=304.1, Y=73.75, colours='red')  # Critical point\n",
    "\n",
    "pt.add_attributes(ax_labels=[\"temperature, K\", \"pressure, bar\"])"
   ]
  },
  {
   "cell_type": "markdown",
   "id": "502ba2f0-9fac-4a71-872d-aa3eaea7702a",
   "metadata": {},
   "source": [
    "## 2.1b. Joule-Thomson coefficient"
   ]
  },
  {
   "cell_type": "code",
   "execution_count": null,
   "id": "cd0247bf-99ae-4e42-a526-b5226a9b304c",
   "metadata": {},
   "outputs": [],
   "source": [
    "# Get reference data from NIST\n",
    "from ref_data import get_nist_data\n",
    "\n",
    "temperatures = np.array([0., 30.]) + 273.15\n",
    "ref_p, ref_JT = [[] for i, temp in enumerate(temperatures)], [[] for i, temp in enumerate(temperatures)]\n",
    "for i, t in enumerate(temperatures):\n",
    "    nist_data = get_nist_data(component=\"CO2\", temperature=t, \n",
    "                              pressure=np.arange(25, 301, 25), include_phase_boundary=True)\n",
    "\n",
    "    ref_p[i] = nist_data[\"pressure\"]\n",
    "    ref_JT[i] = nist_data[\"jt\"]"
   ]
  },
  {
   "cell_type": "code",
   "execution_count": null,
   "id": "d927eddb-ab14-4831-974e-61f8e915c0e5",
   "metadata": {},
   "outputs": [],
   "source": [
    "# Joule-Thomson coefficient CO2\n",
    "from dartsflash.plot import PlotEoS\n",
    "jt = PlotEoS.plot(f, pt_props, composition=[1.], x_var=\"pressure\", prop_names=[\"JT\"],\n",
    "                  state={\"temperature\": temperatures}, labels=[\"T = {:.0f} K\".format(t) for t in temperatures])\n",
    "\n",
    "jt.draw_refdata(xref=ref_p, yref=ref_JT)\n",
    "jt.add_attributes(ax_labels=[\"pressure, bar\", \"JT, K/bar\"], legend=True)"
   ]
  },
  {
   "cell_type": "markdown",
   "id": "9bfa3cfc-01b9-4506-956e-c5d486f7cce0",
   "metadata": {},
   "source": [
    "### <font color='Red'> Excersise: plot cooling curves for T = 60 C and 90 C with the same pressure drop"
   ]
  },
  {
   "cell_type": "markdown",
   "id": "11fdba5a",
   "metadata": {},
   "source": [
    "## 2.2. PH-diagram of CO$_2$"
   ]
  },
  {
   "cell_type": "code",
   "execution_count": null,
   "id": "ba8e1ccf-96c3-4c12-a205-48ee948db2ed",
   "metadata": {},
   "outputs": [],
   "source": [
    "#  PH diagram\n",
    "from dartsflash.libflash import PHFlash\n",
    "Trange = [260., 350.]\n",
    "Prange = [10., 100.]\n",
    "\n",
    "f.flash_params.phflash_Htol = 1e-3\n",
    "f.flash_params.phflash_Ttol = 1e-8\n",
    "f.f = PHFlash(f.flash_params)\n",
    "f.np_max = 2\n",
    "\n",
    "# Evaluate\n",
    "Hrange = [f.eos[\"CEOS\"].H_PT(Prange[1], Ti, [1.]) * R for Ti in Trange]\n",
    "state_spec = {\"pressure\": np.linspace(Prange[0], Prange[1], 200),\n",
    "              \"enthalpy\": np.linspace(Hrange[0], Hrange[1], 100),\n",
    "              }\n",
    "\n",
    "flash_results = f.evaluate_flash_1c(state_spec=state_spec)\n",
    "\n",
    "# Plot PH diagram\n",
    "from dartsflash.plot import PlotFlash\n",
    "PlotFlash.ph(f, flash_results, composition=[1.], plot_temperature=True)"
   ]
  },
  {
   "cell_type": "markdown",
   "id": "6dd2af25-8e18-49ff-b3b6-35f844529d56",
   "metadata": {},
   "source": [
    "## 2.3. Isenthalpic cooling"
   ]
  },
  {
   "cell_type": "code",
   "execution_count": null,
   "id": "ebc31601-1b18-4ff2-a175-572c0617e7b5",
   "metadata": {},
   "outputs": [],
   "source": [
    "# Plot PT diagram of CO2 enthalpy\n",
    "from dartsflash.plot import PlotEoS\n",
    "pt = PlotEoS.surf(f, pt_props, x_var=\"temperature\", y_var=\"pressure\", prop_names=[\"H\"], composition=[1.])\n",
    "pt.draw_point(X=304.1, Y=73.75, colours='red')  # Critical point\n",
    "\n",
    "pt.add_attributes(ax_labels=[\"temperature, K\", \"pressure, bar\"])\n",
    "\n",
    "R = 8.3144\n",
    "enthalpies = [ceos.H_PT(p=100., T=temp, n=[1.]) * R for temp in [273, 303, 333]]\n",
    "\n",
    "pressures = [flash_results.pressure.values for h in enthalpies]\n",
    "temps = [flash_results.sel(enthalpy=h, method='nearest').temp.values for h in enthalpies]\n",
    "\n",
    "for i in range(3):\n",
    "    pt.draw_line(temps[i], pressures[i])\n",
    "# \"\"\"\"\"\""
   ]
  },
  {
   "cell_type": "code",
   "execution_count": null,
   "metadata": {},
   "outputs": [],
   "source": []
  }
 ],
 "metadata": {
  "kernelspec": {
   "display_name": "Python 3 (ipykernel)",
   "language": "python",
   "name": "python3"
  },
  "language_info": {
   "codemirror_mode": {
    "name": "ipython",
    "version": 3
   },
   "file_extension": ".py",
   "mimetype": "text/x-python",
   "name": "python",
   "nbconvert_exporter": "python",
   "pygments_lexer": "ipython3",
   "version": "3.9.20"
  }
 },
 "nbformat": 4,
 "nbformat_minor": 5
}
