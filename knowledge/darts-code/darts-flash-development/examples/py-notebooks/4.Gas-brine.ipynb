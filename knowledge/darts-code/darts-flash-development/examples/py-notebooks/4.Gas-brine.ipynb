{
 "cells": [
  {
   "cell_type": "markdown",
   "id": "4079cf29-f07c-432b-8576-d6ede7a1a866",
   "metadata": {},
   "source": [
    "# 4. Multiphase equilibrium with brine\n",
    "<img style = \"float: left;\" src = \"slides/3a_negative_flash.png\" width = \"60%\">"
   ]
  },
  {
   "cell_type": "markdown",
   "id": "0539946b",
   "metadata": {},
   "source": [
    "## 4.1. Solubility of brine and CO$_2$ in different phases"
   ]
  },
  {
   "cell_type": "code",
   "execution_count": null,
   "id": "initial_id",
   "metadata": {},
   "outputs": [],
   "source": [
    "import numpy as np\n",
    "import xarray as xr\n",
    "from dartsflash.pyflash import PyFlash\n",
    "from dartsflash.mixtures import Mixture, ConcentrationUnits\n",
    "from dartsflash.libflash import CubicEoS, AQEoS, InitialGuess\n",
    "\n",
    "\n",
    "mix = Mixture(components=[\"H2O\", \"CO2\"], ions=[\"Na+\", \"Cl-\"])\n",
    "f = PyFlash(mixture=mix)\n",
    "\n",
    "f.add_eos(\"CEOS\", CubicEoS(mix.comp_data, CubicEoS.PR),\n",
    "          initial_guesses=[InitialGuess.Yi.Wilson])\n",
    "f.add_eos(\"AQ\", AQEoS(mix.comp_data, {AQEoS.water: AQEoS.Jager2003,\n",
    "                                      AQEoS.solute: AQEoS.Ziabakhsh2012,\n",
    "                                      AQEoS.ion: AQEoS.Jager2003}))\n",
    "f.init_flash(stabilityflash=False, eos_order=[\"AQ\", \"CEOS\"], initial_guess=[InitialGuess.Henry_AV], np_max=2)\n",
    "\n",
    "state_spec = {\"pressure\": np.arange(1., 600., 1.),\n",
    "              \"temperature\": np.array([25, 90]) + 273.15,\n",
    "             }\n",
    "compositions = {\"H2O\": 0.8,\n",
    "                \"CO2\": 0.2\n",
    "               }\n",
    "results_m0 = f.evaluate_flash(state_spec=state_spec, compositions=compositions,\n",
    "                              mole_fractions=True, concentrations={\"NaCl\": 0.})\n",
    "results_m2 = f.evaluate_flash(state_spec=state_spec, compositions=compositions,\n",
    "                              mole_fractions=True, concentrations={\"NaCl\": 2.})\n",
    "flash_results = xr.concat([results_m0, results_m2], dim='concentrations')\n"
   ]
  },
  {
   "cell_type": "code",
   "execution_count": null,
   "id": "8266dbaa-a2ce-4264-89cc-cb4f03941da9",
   "metadata": {},
   "outputs": [],
   "source": [
    "from dartsflash.plot import PlotFlash\n",
    "labels = ['25$\\degree$C, m=0', '90$\\degree$C, m=0', '25$\\degree$C, m=2', '90$\\degree$C, m=2']\n",
    "\n",
    "plotx = PlotFlash.solubility(f, flash_results, dissolved_comp_idx=1, phase_idx=0,\n",
    "                             labels=labels, concentrations=[0, 2])\n",
    "\n",
    "ploty = PlotFlash.solubility(f, flash_results, dissolved_comp_idx=0, phase_idx=1,\n",
    "                             labels=labels, concentrations=[0, 2])\n",
    "ploty.ax[0].set(ylim=[0., 0.04])"
   ]
  },
  {
   "cell_type": "markdown",
   "id": "d2fb1a97-ae3c-4a41-893a-742a9e41d564",
   "metadata": {},
   "source": [
    "## 4.2. Binary gas mixture with water"
   ]
  },
  {
   "cell_type": "code",
   "execution_count": null,
   "id": "c82a0964-6526-4157-9eaf-776c6ae2d7a5",
   "metadata": {},
   "outputs": [],
   "source": [
    "import numpy as np\n",
    "import xarray as xr\n",
    "from dartsflash.libflash import FlashParams, EoSParams, EoS, InitialGuess\n",
    "from dartsflash.libflash import CubicEoS, AQEoS\n",
    "\n",
    "# H2O-CO2-C1 mixtures\n",
    "components = [\"H2O\", \"CO2\", \"C1\"]\n",
    "\n",
    "mix = Mixture(components, setprops=True)\n",
    "f = PyFlash(mix)\n",
    "\n",
    "f.add_eos(\"CEOS\", CubicEoS(mix.comp_data, CubicEoS.PR),\n",
    "          initial_guesses=[0, 1, 2], preferred_roots=[(0, 0.75, EoS.MAX)],\n",
    "          switch_tol=1e-1, stability_tol=1e-20, max_iter=50, use_gmix=0)\n",
    "f.add_eos(\"AQ\", AQEoS(mix.comp_data, {AQEoS.water: AQEoS.Jager2003,\n",
    "                                      AQEoS.solute: AQEoS.Ziabakhsh2012}),\n",
    "          initial_guesses=[0], eos_range={0: [0.6, 1.]}, max_iter=10, use_gmix=True)\n",
    "\n",
    "f.flash_params.stability_variables = FlashParams.alpha\n",
    "f.flash_params.split_variables = FlashParams.nik\n",
    "f.flash_params.split_tol = 1e-20\n",
    "# f.flash_params.split_switch_tol = 1e-2\n",
    "f.flash_params.tpd_close_to_boundary = 1e-2\n",
    "f.flash_params.split_negative_flash_iter = 3\n",
    "f.flash_params.tpd_tol = 1e-11\n",
    "f.flash_params.verbose = 0\n",
    "\n",
    "eos_order = [\"AQ\", \"CEOS\"]\n",
    "np_max = 3\n",
    "f.init_flash(eos_order=eos_order, stabilityflash=True, np_max=np_max)"
   ]
  },
  {
   "cell_type": "code",
   "execution_count": null,
   "id": "fe96e4fa-bd8d-414a-b756-fd4cf8a4b78f",
   "metadata": {},
   "outputs": [],
   "source": [
    "\"\"\" TERNARY DIAGRAM \"\"\"\n",
    "state_spec = {\"pressure\": 100.,\n",
    "              \"temperature\": 375.,\n",
    "             }\n",
    "\n",
    "dz = 0.0001\n",
    "min_z = [0.97, 0.]\n",
    "max_z = [1., 0.03]\n",
    "compositions = {comp: np.arange(min_z[i], max_z[i]+0.1*dz, dz) for i, comp in enumerate(components[:-1])}\n",
    "compositions[components[-1]] = 1.\n",
    "\n",
    "x0 = compositions[components[0]]\n",
    "x1 = compositions[components[1]]\n",
    "\n",
    "flash_results = f.evaluate_flash(state_spec=state_spec, compositions=compositions, mole_fractions=True, print_state=\"Flash\")\n",
    "\n",
    "plot = PlotFlash.ternary(f, flash_results, state=state_spec, dz=dz, min_z=min_z, max_z=max_z, plot_phase_fractions=False)"
   ]
  },
  {
   "cell_type": "markdown",
   "id": "29675010-21a0-4ea4-a520-f6a6c3af68b3",
   "metadata": {},
   "source": [
    "## 4.3. Hydrates formation\n",
    "\n",
    "<img style = \"float: left;\" src = \"slides/3c_vdwp.png\" width = \"60%\">"
   ]
  },
  {
   "cell_type": "code",
   "execution_count": null,
   "id": "625b0b5c-1571-482e-b08e-95b25b7a7f9b",
   "metadata": {},
   "outputs": [],
   "source": [
    "from dartsflash.hyflash import HyFlash\n",
    "from dartsflash.mixtures import Mixture, ConcentrationUnits as cu\n",
    "from dartsflash.libflash import CubicEoS, AQEoS, Ballard, InitialGuess\n",
    "\n",
    "\n",
    "mix = Mixture(components=[\"H2O\", \"CO2\"], ions=[\"Na+\", \"Cl-\"])\n",
    "f = HyFlash(mixture=mix)\n",
    "\n",
    "state_spec = {\"temperature\": np.arange(271., 291., 0.1),\n",
    "              \"pressure\": None\n",
    "             }\n",
    "compositions = {\"H2O\": 0.8,\n",
    "                \"CO2\": 0.2,\n",
    "               }\n",
    "concentrations = [{\"NaCl\": m} for m in [0., 0.01, 0.05, 0.10, 0.15]]  #, 0.20, 0.25]]\n",
    "concentration_unit = cu.WEIGHT\n",
    "\n",
    "labels = [\"m = {:.0f} wt%\".format(c[\"NaCl\"]*100) for c in concentrations]\n",
    "\n",
    "f.add_eos(\"CEOS\", CubicEoS(mix.comp_data, CubicEoS.SRK),\n",
    "          initial_guesses=[InitialGuess.Yi.Wilson])\n",
    "f.add_eos(\"AQ\", AQEoS(mix.comp_data, {AQEoS.water: AQEoS.Jager2003,\n",
    "                                      AQEoS.solute: AQEoS.Ziabakhsh2012,\n",
    "                                      AQEoS.ion: AQEoS.Jager2003}))\n",
    "f.add_hydrate_eos(\"sI\", Ballard(mix.comp_data, \"sI\"))\n",
    "\n",
    "f.flash_params.eos_order = [\"AQ\", \"CEOS\"]\n",
    "f.init_flash(stabilityflash=False, eos_order=[\"AQ\", \"CEOS\"], initial_guess=[InitialGuess.Henry_AV])\n",
    "\n",
    "if concentrations is not None:\n",
    "    results = []\n",
    "    for concentration in concentrations:\n",
    "        results.append(f.evaluate_equilibrium(state_spec, compositions, mole_fractions=True,\n",
    "                                              concentrations=concentration, concentration_unit=concentration_unit))\n",
    "    results = xr.concat(results, dim='concentrations')\n",
    "else:\n",
    "    results = f.evaluate_equilibrium(state_spec, compositions, mole_fractions=True, print_state=\"\")"
   ]
  },
  {
   "cell_type": "code",
   "execution_count": null,
   "id": "3e86fb20-fed9-410b-b4b0-86e07e1e0837",
   "metadata": {},
   "outputs": [],
   "source": [
    "from dartsflash.plot import PlotHydrate\n",
    "\n",
    "PlotHydrate.pt(f, results, compositions_to_plot=compositions, concentrations=concentrations, logy=True,\n",
    "               labels=labels, legend_loc=\"lower right\")\n"
   ]
  }
 ],
 "metadata": {
  "kernelspec": {
   "display_name": "Python 3 (ipykernel)",
   "language": "python",
   "name": "python3"
  },
  "language_info": {
   "codemirror_mode": {
    "name": "ipython",
    "version": 3
   },
   "file_extension": ".py",
   "mimetype": "text/x-python",
   "name": "python",
   "nbconvert_exporter": "python",
   "pygments_lexer": "ipython3",
   "version": "3.9.20"
  }
 },
 "nbformat": 4,
 "nbformat_minor": 5
}
