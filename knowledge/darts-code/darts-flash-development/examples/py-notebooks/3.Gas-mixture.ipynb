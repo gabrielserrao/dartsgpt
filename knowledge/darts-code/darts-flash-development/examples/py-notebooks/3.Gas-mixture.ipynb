{
 "cells": [
  {
   "cell_type": "markdown",
   "id": "84d3e70c-300e-408a-a364-300a451e8a04",
   "metadata": {
    "collapsed": true,
    "jupyter": {
     "outputs_hidden": true
    }
   },
   "source": [
    "# 3. Properties of gas mixtures"
   ]
  },
  {
   "cell_type": "markdown",
   "id": "dc56d767-3d19-4459-9b2a-95b72b0c5d94",
   "metadata": {},
   "source": [
    "## 3.1. Binary CO$_2$-CH$_4$ mixture"
   ]
  },
  {
   "cell_type": "code",
   "execution_count": null,
   "id": "7b6deec2-0e90-42a0-b706-dc980565f7e4",
   "metadata": {},
   "outputs": [],
   "source": [
    "import numpy as np\n",
    "import xarray as xr\n",
    "\n",
    "from dartsflash.libflash import FlashParams, EoSParams, EoS, InitialGuess\n",
    "from dartsflash.libflash import Flash\n",
    "from dartsflash.libflash import CubicEoS\n",
    "\n",
    "from dartsflash.mixtures import Mixture\n",
    "from dartsflash.pyflash import PyFlash\n",
    "\n",
    "\n",
    "mix = Mixture(components=[\"CO2\", \"C1\"])\n",
    "f = PyFlash(mixture=mix)\n",
    "\n",
    "f.add_eos(\"CEOS\", CubicEoS(mix.comp_data, CubicEoS.PR),\n",
    "          initial_guesses=[0, 1],\n",
    "         )\n",
    "ceos = f.eos[\"CEOS\"]\n",
    "\n",
    "f.init_flash(stabilityflash=True, eos_order=[\"CEOS\"], np_max=2)"
   ]
  },
  {
   "cell_type": "markdown",
   "id": "4574af38-31d8-4a87-9949-741a99755ad3",
   "metadata": {},
   "source": [
    "## 3.1a. PT-diagram"
   ]
  },
  {
   "cell_type": "code",
   "execution_count": null,
   "id": "75df5545-aa3d-4aa0-82fa-1d44bc3d6adf",
   "metadata": {},
   "outputs": [],
   "source": [
    "\"\"\" Define state specifications and compositions \"\"\"\n",
    "dz = 0.01\n",
    "min_z = [0.9]\n",
    "max_z = [1.]\n",
    "compositions = {\"CO2\": np.arange(min_z[0], max_z[0]+dz*0.1, dz),\n",
    "                \"C1\": 1.,\n",
    "               }\n",
    "state_spec = {\"pressure\": np.arange(10, 200, 1),\n",
    "              \"temperature\": np.arange(273.15, 423.15, 1),\n",
    "              }\n",
    "\n",
    "\"\"\" Perform flash calculations \"\"\"\n",
    "flash_results = f.evaluate_flash(state_spec=state_spec, compositions=compositions, mole_fractions=True)"
   ]
  },
  {
   "cell_type": "code",
   "execution_count": null,
   "id": "02355988-c38f-4175-8be4-100a3a1a7d9c",
   "metadata": {},
   "outputs": [],
   "source": [
    "# Plot flash results\n",
    "from dartsflash.plot import PlotFlash\n",
    "pt = PlotFlash.pt(f, flash_results, composition=[0.9, 0.1], plot_phase_fractions=True)"
   ]
  },
  {
   "cell_type": "markdown",
   "id": "a9d2bdd6-1bfe-47d9-a975-6eef33bcc697",
   "metadata": {},
   "source": [
    "## 3.1b. P-x and T-x diagrams"
   ]
  },
  {
   "cell_type": "code",
   "execution_count": null,
   "id": "23630f3a-a231-4ad3-8104-1eaa96a55a83",
   "metadata": {},
   "outputs": [],
   "source": [
    "\"\"\" Define state specifications and compositions \"\"\"\n",
    "dz = 0.01\n",
    "min_z = [0.]\n",
    "max_z = [1.]\n",
    "compositions = {\"CO2\": np.arange(min_z[0], max_z[0]+dz*0.1, dz),\n",
    "                \"C1\": 1.,\n",
    "               }\n",
    "state_spec = {\n",
    "    \"pressure\": np.arange(1, 100, 1), \"temperature\": 273.15,  # uncomment for Px diagram\n",
    "    # \"temperature\": np.arange(273.15, 573.15, 1), \"pressure\": 100.,  # uncomment for Tx diagram\n",
    "}\n",
    "\n",
    "flash_results = f.evaluate_flash(state_spec=state_spec, compositions=compositions, mole_fractions=True)"
   ]
  },
  {
   "cell_type": "code",
   "execution_count": null,
   "id": "7762e8ae-92bc-402c-97ce-a353f7c05d10",
   "metadata": {},
   "outputs": [],
   "source": [
    "# Plot flash results\n",
    "from dartsflash.plot import PlotFlash\n",
    "px = PlotFlash.binary(f, flash_results, variable_comp_idx=0, dz=dz, state=state_spec, min_z=min_z, max_z=max_z, plot_phase_fractions=True)"
   ]
  },
  {
   "cell_type": "markdown",
   "id": "d2173178-99f0-4d4b-803e-8c0bf4df163f",
   "metadata": {},
   "source": [
    "## 3.1c. PH diagram of binary mixture"
   ]
  },
  {
   "cell_type": "code",
   "execution_count": null,
   "id": "f9b1d749-1a70-4500-87f1-63b9e4ce6f07",
   "metadata": {},
   "outputs": [],
   "source": [
    "from dartsflash.libflash import PHFlash\n",
    "\n",
    "components = [\"CO2\", \"C1\"]\n",
    "mix = Mixture(components=components, setprops=True)\n",
    "\n",
    "f = PyFlash(mixture=mix)\n",
    "\n",
    "f.add_eos(\"CEOS\", CubicEoS(mix.comp_data, CubicEoS.PR),\n",
    "          initial_guesses=[0, 1],\n",
    "          switch_tol=1e-3)\n",
    "f.flash_params.phflash_Htol = 1e-3\n",
    "f.flash_params.phflash_Ttol = 1e-8\n",
    "\n",
    "f.f = PHFlash(f.flash_params)\n",
    "f.np_max = 2"
   ]
  },
  {
   "cell_type": "code",
   "execution_count": null,
   "id": "39b60ca2-8714-443f-a2a7-35e79bb1d071",
   "metadata": {},
   "outputs": [],
   "source": [
    "# Define range of P and T/H\n",
    "z = [0.9, 0.1]\n",
    "Trange = [250., 350.]\n",
    "Prange = [10., 100.]\n",
    "Hrange = [f.eos[\"CEOS\"].H_PT(Prange[1], Ti, z) * 8.314472 for Ti in Trange]\n",
    "\n",
    "state_spec = {\"pressure\": np.linspace(Prange[0], Prange[1], 200),\n",
    "              \"enthalpy\": np.linspace(Hrange[0], Hrange[1], 100),\n",
    "              }\n",
    "compositions = {comp: z[i] for i, comp in enumerate(components)}\n",
    "\n",
    "flash_results = f.evaluate_flash(state_spec=state_spec, compositions=compositions, mole_fractions=True)\n",
    "\n",
    "from dartsflash.plot import PlotFlash\n",
    "PlotFlash.ph(f, flash_results, composition=z, plot_temperature=True)"
   ]
  },
  {
   "cell_type": "markdown",
   "id": "b012e96c-712d-4c6f-a3ff-b6f59be1e71b",
   "metadata": {},
   "source": [
    "## 3.2. Ternary mixture with CO$_2$"
   ]
  },
  {
   "cell_type": "code",
   "execution_count": null,
   "id": "572fa735-5ed2-4d21-aed2-0035e0baf638",
   "metadata": {},
   "outputs": [],
   "source": [
    "import numpy as np\n",
    "import xarray as xr\n",
    "\n",
    "from dartsflash.libflash import FlashParams, EoSParams, EoS, InitialGuess\n",
    "from dartsflash.libflash import Flash\n",
    "from dartsflash.libflash import CubicEoS\n",
    "\n",
    "from dartsflash.mixtures import Mixture\n",
    "from dartsflash.pyflash import PyFlash\n",
    "\n",
    "# Redefine mixture\n",
    "components = [\"CO2\", \"C1\", \"H2S\"]\n",
    "mix = Mixture(components)\n",
    "f = PyFlash(mixture=mix)\n",
    "\n",
    "f.add_eos(\"CEOS\", CubicEoS(mix.comp_data, CubicEoS.PR),\n",
    "          initial_guesses=[InitialGuess.Wilson, 0, 2], switch_tol=1e-2)\n",
    "ceos = f.eos[\"CEOS\"]\n",
    "\n",
    "f.flash_params.stability_variables = FlashParams.alpha\n",
    "f.flash_params.split_variables = FlashParams.nik\n",
    "f.flash_params.split_tol = 1e-20\n",
    "f.flash_params.split_switch_tol = 1e-2\n",
    "f.flash_params.tpd_tol = 1e-11\n",
    "f.flash_params.tpd_close_to_boundary = 1e-2\n",
    "\n",
    "f.init_flash(stabilityflash=True, eos_order=[\"CEOS\"], np_max=3)"
   ]
  },
  {
   "cell_type": "markdown",
   "id": "9d2719a1-ba60-4ddf-a602-8b6566ebd591",
   "metadata": {},
   "source": [
    "## 3.2a. PT-diagram"
   ]
  },
  {
   "cell_type": "code",
   "execution_count": null,
   "id": "09e42932-3cda-4014-8efb-e543b0e2cf67",
   "metadata": {},
   "outputs": [],
   "source": [
    "\"\"\" Define state specifications and compositions \"\"\"\n",
    "state_spec = {\"pressure\": np.arange(10, 200, 1),\n",
    "              \"temperature\": np.arange(273.15, 423.15, 1),\n",
    "              }\n",
    "composition = [0.6, 0.2, 0.2]\n",
    "compositions = {components[i]: composition[i] for i in range(3)}\n",
    "\n",
    "\"\"\" Perform flash calculations \"\"\"\n",
    "flash_results = f.evaluate_flash(state_spec=state_spec, compositions=compositions, mole_fractions=True)"
   ]
  },
  {
   "cell_type": "code",
   "execution_count": null,
   "id": "1fea11de-f973-41d7-ad7a-3413fb406d7e",
   "metadata": {},
   "outputs": [],
   "source": [
    "# Plot flash results\n",
    "from dartsflash.plot import PlotFlash\n",
    "pt = PlotFlash.pt(f, flash_results, composition=composition, plot_phase_fractions=True)"
   ]
  },
  {
   "cell_type": "markdown",
   "id": "4714fee3-7096-4a72-b665-f661c482b3b3",
   "metadata": {},
   "source": [
    "## 3.2b. Ternary diagram"
   ]
  },
  {
   "cell_type": "code",
   "execution_count": null,
   "id": "f53d3c69-c87e-43dc-837d-fd745b145027",
   "metadata": {},
   "outputs": [],
   "source": [
    "\"\"\" Define state specifications and compositions \"\"\"\n",
    "state_spec = {\"pressure\": np.array([60.]),\n",
    "              \"temperature\": np.array([273.15]),\n",
    "              }\n",
    "dz = 0.005\n",
    "min_z = [0., 0.]\n",
    "max_z = [1., 1.]\n",
    "compositions = {comp: np.arange(min_z[i], max_z[i]+0.1*dz, dz) for i, comp in enumerate(components[:-1])}\n",
    "compositions[components[-1]] = 1.\n",
    "\n",
    "\"\"\" Perform flash calculations \"\"\"\n",
    "flash_results = f.evaluate_flash(state_spec=state_spec, compositions=compositions, mole_fractions=True)"
   ]
  },
  {
   "cell_type": "code",
   "execution_count": null,
   "id": "360b908a-a257-42ec-81e9-f6392dddc0b3",
   "metadata": {},
   "outputs": [],
   "source": [
    "\"\"\" Plot flash results \"\"\"\n",
    "PlotFlash.ternary(f, flash_results, dz=dz, min_z=min_z, max_z=max_z, state={spec: state_spec[spec] for spec in state_spec.keys()}, composition_to_plot=composition)"
   ]
  },
  {
   "cell_type": "code",
   "execution_count": null,
   "id": "55b682bb-2af5-45e8-992d-ee5e47fcc52d",
   "metadata": {},
   "outputs": [],
   "source": []
  }
 ],
 "metadata": {
  "kernelspec": {
   "display_name": "Python 3 (ipykernel)",
   "language": "python",
   "name": "python3"
  },
  "language_info": {
   "codemirror_mode": {
    "name": "ipython",
    "version": 3
   },
   "file_extension": ".py",
   "mimetype": "text/x-python",
   "name": "python",
   "nbconvert_exporter": "python",
   "pygments_lexer": "ipython3",
   "version": "3.9.20"
  }
 },
 "nbformat": 4,
 "nbformat_minor": 5
}
