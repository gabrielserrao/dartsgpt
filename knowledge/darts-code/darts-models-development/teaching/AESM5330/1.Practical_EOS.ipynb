{
 "cells": [
  {
   "cell_type": "markdown",
   "id": "53d761d3-0671-4e96-8b29-be1a5541befc",
   "metadata": {},
   "source": [
    "# Practical: Cubic Equations of State "
   ]
  },
  {
   "cell_type": "markdown",
   "id": "9b748617-dec3-4001-8a74-feadcb159967",
   "metadata": {},
   "source": [
    "### Plotting PV diagram of pure ${\\mathrm{CO}_2}$ with a cubic EoS (SRK)"
   ]
  },
  {
   "cell_type": "code",
   "id": "initial_id",
   "metadata": {
    "tags": []
   },
   "source": [
    "import numpy as np\n",
    "from dartsflash.pyflash import PyFlash\n",
    "from dartsflash.mixtures import Mixture\n",
    "from dartsflash.libflash import CubicEoS\n",
    "\n",
    "# Define mixture and initialize Flash object\n",
    "mix = Mixture(components=[\"CO2\"])\n",
    "f = PyFlash(mixture=mix)\n",
    "\n",
    "# Add CubicEoS object\n",
    "f.add_eos(\"CEOS\", CubicEoS(mix.comp_data, CubicEoS.PR))\n",
    "ceos = f.eos[\"CEOS\"]\n",
    "\n",
    "# Define range of molar volumes for x-axis\n",
    "Vmax = ceos.V(p=10, T=273.15, n=[1.])\n",
    "Vmin = ceos.V(p=200, T=273.15, n=[1.])\n",
    "\n",
    "# Define state specification, compositions and properties to evaluate\n",
    "state_spec = {\"volume\": np.linspace(Vmin, Vmax, 1000),\n",
    "              \"temperature\": np.array([273, 293]),\n",
    "             }\n",
    "compositions = {\"CO2\": 1.}\n",
    "dims_order = [\"volume\", \"temperature\"]\n",
    "properties = {\"P\": ceos.P,\n",
    "              \"Z\": ceos.Zv,\n",
    "             }\n",
    "\n",
    "# Calculate pressure at each (T,V)\n",
    "vt_props = f.evaluate_properties_1p(state_spec=state_spec, compositions=compositions,\n",
    "                                    properties_to_evaluate=properties, mole_fractions=True, print_state=\"VT props\")\n",
    "\n",
    "# Plot P-V diagram\n",
    "from dartsflash.plot import PlotEoS\n",
    "pv_plot = PlotEoS.pressure_volume(f, temperatures=state_spec[\"temperature\"], compositions=[1.],\n",
    "                                  pt_props=None, vt_props=vt_props, vrange=[0, 6e-4], prange=[0, 100])"
   ],
   "outputs": [],
   "execution_count": null
  },
  {
   "cell_type": "markdown",
   "id": "fca827c6-5672-425e-a925-9fb327295927",
   "metadata": {},
   "source": [
    "### <font color='blue'>Excersise 1: compute and plot solution when all 3 real roots are equal. Which thermodynamic state it is?"
   ]
  },
  {
   "cell_type": "markdown",
   "id": "729a4fa484db6346",
   "metadata": {
    "collapsed": false,
    "jupyter": {
     "outputs_hidden": false
    }
   },
   "source": [
    "### Calculating the enthalpy of pure ${\\mathrm{CO}_2}$ with a cubic EoS (SRK)"
   ]
  },
  {
   "cell_type": "code",
   "id": "0a1bb1d2-5424-4e90-8e16-269823ef0067",
   "metadata": {},
   "source": [
    "# Evaluate enthalpy and entropy of CO2\n",
    "state_spec = {\"temperature\": np.arange(248, 348, 0.1),\n",
    "              \"pressure\": np.array([25, 50]),\n",
    "             }\n",
    "compositions = {\"CO2\": 1.}\n",
    "properties = {\"H\": ceos.H_PT, \"S\": ceos.S_PT}\n",
    "\n",
    "results = f.evaluate_properties_1p(state_spec=state_spec, compositions=compositions,\n",
    "                                   properties_to_evaluate=properties, mole_fractions=True)\n"
   ],
   "outputs": [],
   "execution_count": null
  },
  {
   "cell_type": "code",
   "id": "b03f1724-abac-4b5c-a934-08498b20db09",
   "metadata": {},
   "source": [
    "# Get NIST data and plot\n",
    "from ref_data import get_nist_data\n",
    "\n",
    "R = 8.3144772\n",
    "\n",
    "num_curves = len(state_spec[\"pressure\"])\n",
    "ref_T, ref_H, ref_S = [[] for i in range(num_curves)], [[] for i in range(num_curves)], [[] for i in range(num_curves)]\n",
    "\n",
    "for i, p in enumerate(state_spec[\"pressure\"]):\n",
    "    nist_data = get_nist_data(component=\"CO2\", temperature=np.arange(250, 351, 10), pressure=p, include_phase_boundary=True)\n",
    "    ref_T[i] = nist_data[\"temperature\"]\n",
    "    ref_H[i] = nist_data[\"enthalpy\"]\n",
    "    ref_S[i] = nist_data[\"entropy\"]\n",
    "\n",
    "for i in range(num_curves):\n",
    "    H0 = ref_H[i][0]\n",
    "    ref_H[i][:] = [(Hj - H0) * 1e3 for Hj in ref_H[i][:]]  # set reference value of enthalpy and convert kJ/mol to J/mol\n",
    "    S0 = ref_S[i][0]\n",
    "    ref_S[i][:] = [(Sj - S0) * 1e3 for Sj in ref_S[i][:]]  # set reference value of entropy and convert kJ/mol to J/mol\n",
    "\n",
    "T = [state_spec[\"temperature\"] for i in range(num_curves)]\n",
    "H0 = results.isel(pressure=0).H.values[0]  # set reference value of enthalpy at first value\n",
    "H = [(results.isel(pressure=i).H.values - H0) * R for i, pres in enumerate(state_spec[\"pressure\"])]\n",
    "S0 = results.isel(pressure=0).S.values[0]  # set reference value of entropy at first value\n",
    "S = [(results.isel(pressure=i).S.values - S0) * R for i, pres in enumerate(state_spec[\"pressure\"])]\n",
    "labels = [\"{:.1f} bar\".format(pres) for pres in state_spec[\"pressure\"]]\n",
    "\n",
    "from dartsflash.diagram import Plot\n",
    "H_plot = Plot()\n",
    "H_plot.draw_plot(xdata=T, ydata=H, logy=False, datalabels=labels)\n",
    "H_plot.draw_refdata(xref=ref_T, yref=ref_H)\n",
    "H_plot.add_attributes(title=\"Enthalpy of \" + f.mixture.name, ax_labels=[\"temperature, K\", r\"$\\Delta$H, J/mol\"], legend=True)"
   ],
   "outputs": [],
   "execution_count": null
  },
  {
   "cell_type": "markdown",
   "id": "420623c7-11a9-407e-b9ea-20edb9196fe2",
   "metadata": {},
   "source": [
    "### <font color='blue'>Excersise 2: plot solutions for pressure 75 and 100 bars. What is the temperature of vaporization for all 4 pressures?"
   ]
  },
  {
   "cell_type": "markdown",
   "id": "424f85b1-82aa-4ef1-889f-7b67e4961305",
   "metadata": {},
   "source": [
    "### Enthalpy diagram of pure ${\\mathrm{CO}_2}$ with a cubic EoS (SRK)"
   ]
  },
  {
   "cell_type": "code",
   "id": "47f1f58ef31da31e",
   "metadata": {
    "collapsed": false,
    "jupyter": {
     "outputs_hidden": false
    }
   },
   "source": [
    "R = 8.3144772  # gas constant\n",
    "\n",
    "# Define mixture and initialize Flash object\n",
    "mix = Mixture(components=[\"CO2\"])\n",
    "f = PyFlash(mixture=mix)\n",
    "\n",
    "# Add CubicEoS object\n",
    "f.add_eos(\"CEOS\", CubicEoS(mix.comp_data, CubicEoS.PR))\n",
    "ceos = f.eos[\"CEOS\"]\n",
    "\n",
    "# Plot enthalpy diagram\n",
    "state_spec = {\"temperature\": np.arange(273, 423, 1),\n",
    "              \"pressure\": np.arange(1, 200, 1),\n",
    "             }\n",
    "compositions = {\"CO2\": 1.}\n",
    "properties = {\"H\": ceos.H_PT,\n",
    "              \"JT\": ceos.JT,\n",
    "             }\n",
    "\n",
    "pt_props = f.evaluate_properties_1p(state_spec=state_spec, compositions=compositions,\n",
    "                                    properties_to_evaluate=properties, mole_fractions=True)"
   ],
   "outputs": [],
   "execution_count": null
  },
  {
   "cell_type": "code",
   "id": "2444a3ae5b4f76ac",
   "metadata": {
    "collapsed": false,
    "jupyter": {
     "outputs_hidden": false
    }
   },
   "source": [
    "# Plot PT diagram of CO2 enthalpy\n",
    "from dartsflash.plot import PlotEoS\n",
    "pt = PlotEoS.surf(f, pt_props, x_var=\"temperature\", y_var=\"pressure\", prop_names=[\"H\"], composition=[1.])\n",
    "pt.draw_point(X=310, Y=75, colours='red')  # Critical point\n",
    "\n",
    "pt.add_attributes(ax_labels=[\"temperature, K\", \"pressure, bar\"])"
   ],
   "outputs": [],
   "execution_count": null
  },
  {
   "cell_type": "markdown",
   "id": "1e7fe176-ec61-49be-be2b-cacb8e296aad",
   "metadata": {},
   "source": [
    "### <font color='blue'>Excersise 3: add two more points for T = 310 K and p = 50 and 100 bars. Explain why enthalpy is changing this way."
   ]
  },
  {
   "cell_type": "markdown",
   "id": "66d2035d15d0a607",
   "metadata": {
    "collapsed": false,
    "jupyter": {
     "outputs_hidden": false
    }
   },
   "source": [
    "### Studying isenthalpic cooling of pure ${\\mathrm{CO}_2}$"
   ]
  },
  {
   "cell_type": "code",
   "id": "fd61049a8d7df302",
   "metadata": {
    "collapsed": false,
    "jupyter": {
     "outputs_hidden": false
    }
   },
   "source": [
    "# Get reference data from NIST\n",
    "from ref_data import get_nist_data\n",
    "\n",
    "temperatures = np.array([0., 30.]) + 273.15\n",
    "ref_p, ref_JT = [[] for i, temp in enumerate(temperatures)], [[] for i, temp in enumerate(temperatures)]\n",
    "for i, t in enumerate(temperatures):\n",
    "    nist_data = get_nist_data(component=\"CO2\", temperature=t, \n",
    "                              pressure=np.arange(25, 301, 25), include_phase_boundary=True)\n",
    "\n",
    "    ref_p[i] = nist_data[\"pressure\"]\n",
    "    ref_JT[i] = nist_data[\"jt\"]\n",
    "\n",
    "# Joule-Thomson coefficient CO2\n",
    "from dartsflash.plot import PlotEoS\n",
    "jt = PlotEoS.plot(f, pt_props, composition=[1.], x_var=\"pressure\", prop_names=[\"JT\"],\n",
    "                  state={\"temperature\": temperatures}, labels=[\"T = {:.0f} K\".format(t) for t in temperatures])\n",
    "\n",
    "jt.draw_refdata(xref=ref_p, yref=ref_JT)\n",
    "jt.add_attributes(ax_labels=[\"pressure, bar\", \"JT, K/bar\"], legend=True)"
   ],
   "outputs": [],
   "execution_count": null
  },
  {
   "cell_type": "markdown",
   "id": "f1674e2d-5365-4f69-b5ea-2ed1c2aa8a7f",
   "metadata": {},
   "source": [
    "### <font color='blue'>Excersise 4: plot cooling curves for T = 323 and 343 with the same pressure drop from 200 to 40 bars."
   ]
  },
  {
   "cell_type": "markdown",
   "id": "13130650-79a1-4aa1-9b02-43d32ba04f48",
   "metadata": {},
   "source": [
    "### Getting the density of a ${\\mathrm{CO}_2}$-${\\mathrm{CH}_4}$ mixture"
   ]
  },
  {
   "cell_type": "code",
   "id": "a37c2b99-5242-4084-9fab-ec7ff2b1e625",
   "metadata": {},
   "source": [
    "mix = Mixture(components=[\"CO2\", \"C1\"])\n",
    "f = PyFlash(mixture=mix)\n",
    "\n",
    "f.add_eos(\"CEOS\", CubicEoS(mix.comp_data, CubicEoS.PR),\n",
    "          initial_guesses=[0, 1],\n",
    "         )\n",
    "ceos = f.eos[\"CEOS\"]\n",
    "\n",
    "f.init_flash(stabilityflash=True, eos_order=[\"CEOS\"], np_max=2)\n",
    "\n",
    "\"\"\" Define state specifications and compositions \"\"\"\n",
    "dz = 0.01\n",
    "min_z = [0.9]\n",
    "max_z = [1.]\n",
    "compositions = {\"CO2\": np.arange(min_z[0], max_z[0]+dz*0.1, dz),\n",
    "                \"C1\": 1.,\n",
    "               }\n",
    "state_spec = {\"pressure\": np.arange(10, 200, 1),\n",
    "              \"temperature\": np.arange(273.15, 423.15, 1),\n",
    "              }\n",
    "\n",
    "\"\"\" Perform flash calculations \"\"\"\n",
    "flash_results = f.evaluate_flash(state_spec=state_spec, compositions=compositions, mole_fractions=True)"
   ],
   "outputs": [],
   "execution_count": null
  },
  {
   "cell_type": "code",
   "id": "0a25cd90-7d74-4da2-8400-591c5a0ff91e",
   "metadata": {},
   "source": [
    "# Density Px CO2/CO2-C1\n",
    "P = state_spec[\"pressure\"]\n"
   ],
   "outputs": [],
   "execution_count": null
  },
  {
   "cell_type": "markdown",
   "id": "61f848e0-6a6a-4bb0-b076-d4a4d32dee83",
   "metadata": {},
   "source": [
    "### <font color='blue'>Excersise 5: explain why density is dropping by going from right to left. Why it is changing at low pressure?"
   ]
  }
 ],
 "metadata": {
  "kernelspec": {
   "display_name": "something",
   "language": "python",
   "name": "development"
  },
  "language_info": {
   "codemirror_mode": {
    "name": "ipython",
    "version": 3
   },
   "file_extension": ".py",
   "mimetype": "text/x-python",
   "name": "python",
   "nbconvert_exporter": "python",
   "pygments_lexer": "ipython3",
   "version": "3.9.18"
  }
 },
 "nbformat": 4,
 "nbformat_minor": 5
}
