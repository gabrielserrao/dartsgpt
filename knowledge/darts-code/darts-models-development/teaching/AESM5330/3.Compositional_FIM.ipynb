{
 "cells": [
  {
   "cell_type": "markdown",
   "id": "9d4f053d-a9d7-4e63-837f-8aa0835e868a",
   "metadata": {},
   "source": [
    "# Fully-implicit compositional simulator\n",
    "\n",
    "### Main assumptions\n",
    "* Constant K-values for an arbitrary number of components\n",
    "* Isothermal assumptions\n",
    "* Constructing the Jacobian matrix with numerical differentiation\n",
    "* Using block-wise storage of primary variables and residuals\n",
    "* Using the original mass conservation equations instead of fractional flow curves\n",
    "* Only for a 1-D domain"
   ]
  },
  {
   "cell_type": "markdown",
   "id": "0461e0ac-7b55-4fa0-ba92-55efe3f35aec",
   "metadata": {},
   "source": [
    "### Import necessary packages"
   ]
  },
  {
   "cell_type": "code",
   "execution_count": null,
   "id": "41dda32f-61c5-47cb-bbd2-8dd328b204cd",
   "metadata": {
    "ExecuteTime": {
     "end_time": "2024-09-09T07:30:45.658383Z",
     "start_time": "2024-09-09T07:30:45.647309Z"
    }
   },
   "outputs": [],
   "source": [
    "import numpy as np\n",
    "import time\n",
    "from numba import jit\n",
    "import matplotlib.pyplot as plt"
   ]
  },
  {
   "cell_type": "markdown",
   "id": "3874bee3-2f61-4ed8-9e2f-cd38ccb217b5",
   "metadata": {},
   "source": [
    "### Fluid properties"
   ]
  },
  {
   "cell_type": "code",
   "execution_count": null,
   "id": "25178f34-e711-444f-b4ed-8e26ab3aaedb",
   "metadata": {
    "ExecuteTime": {
     "end_time": "2024-09-09T07:30:45.673411Z",
     "start_time": "2024-09-09T07:30:45.660411Z"
    }
   },
   "outputs": [],
   "source": [
    "@jit(nopython=True)\n",
    "def RachfordRice(K_values, zc, flash_calcs_eps):\n",
    "    a = 1 / (1 - np.max(K_values)) + flash_calcs_eps\n",
    "    b = 1 / (1 - np.min(K_values)) - flash_calcs_eps\n",
    "\n",
    "    max_iter = 200  # use enough iterations for V to converge\n",
    "    for i in range(1, max_iter):\n",
    "        V = 0.5 * (a + b)\n",
    "        r = np.sum(zc * (K_values - 1) / (V * (K_values - 1) + 1))\n",
    "        if abs(r) < 1e-12:\n",
    "            break\n",
    "\n",
    "        if r > 0:\n",
    "            a = V\n",
    "        else:\n",
    "            b = V\n",
    "\n",
    "    if i >= max_iter:\n",
    "        print(\"Flash warning!!!\")\n",
    "\n",
    "    x = zc / (V * (K_values - 1) + 1)\n",
    "    y = K_values * x\n",
    "\n",
    "    return [V, 1 - V], [y, x]\n",
    "\n",
    "def compute_saturation(ph, nu, rho):\n",
    "    sat = np.zeros(max_num_phases)\n",
    "    # Get phase saturations [volume fractions]\n",
    "    Vtot = 0\n",
    "    for j in ph:\n",
    "        Vtot += nu[j] / rho[j]\n",
    "\n",
    "    for j in ph:\n",
    "        sat[j] = (nu[j] / rho[j]) / Vtot\n",
    "\n",
    "    return sat\n",
    "\n",
    "def calc_density(pressure):\n",
    "    rho_gas = rho_ref_gas * (1 + compr_gas * (pressure - p_ref))\n",
    "    rho_liquid = rho_ref_liquid * (1 + compr_liquid * (pressure - p_ref))\n",
    "\n",
    "    return [rho_gas, rho_liquid]\n",
    "\n",
    "def compute_props(p, zc):\n",
    "    \n",
    "    nu, x = RachfordRice(K_values, zc, 1e-12)\n",
    "\n",
    "    x = np.array(x).reshape(max_num_phases, nc)\n",
    "    nu = np.array(nu)\n",
    "\n",
    "    ph = []\n",
    "    for j in range(max_num_phases):\n",
    "        if nu[j] > 0:\n",
    "            ph.append(j)\n",
    "\n",
    "    if len(ph) == 1:\n",
    "        x = np.zeros((max_num_phases, nc))\n",
    "        x[ph[0]] = zc\n",
    "\n",
    "    for j in ph:\n",
    "        rho = calc_density(p)\n",
    "\n",
    "    s = compute_saturation(ph, nu, rho)\n",
    "\n",
    "    return x, rho, s "
   ]
  },
  {
   "cell_type": "markdown",
   "id": "30ad29f3-1d93-4192-9cce-ddb61a2e2dfc",
   "metadata": {},
   "source": [
    "### Compute residual equations (mass conservation equations of components)\n",
    "\n",
    "The conservation equation for each component has the following form:\n",
    "\\begin{equation}\n",
    "g_{c,i}= \\frac{V}{\\Delta t}\\left[\\left(\\phi\\rho_T z_c\\right)_i^{n+1} -\\left(\\phi\\rho_T z_c\\right)_i^{n}\\right]\n",
    "-T_{c,i+1/2} (p_{i+1}-p_{i})+T_{c,i-1/2} (p_i-p_{i-1}), \\quad c = 1, \\ldots,C.\n",
    "\\end{equation}\n",
    "\n",
    "Here the transmissibility of the component can be defined as\n",
    "\\begin{equation}\n",
    "T_{c,i+1/2}=\\left(\\frac{k_xA}{\\Delta x}\\right)_{i+1/2}\\left(\\sum_j x_{cj}\\rho_j\\lambda_j \\right)_{i+1/2}=\\Gamma_{i+1/2} \\beta_{c,i+1/2}.\n",
    "\\end{equation}\n",
    "\n",
    "The fluid part of transmissibility can be represented as \n",
    "\\begin{equation}\n",
    "\\beta_{c,i+1/2} = \\sum_j (x_{cj} \\rho_j \\lambda_j)_{i+1/2} = \\sum_j \\beta_{cj,i+1/2},\n",
    "\\end{equation}\n",
    "\\begin{equation}\n",
    "\\beta_{cj,i+1/2} = \n",
    "\\begin{cases}\n",
    "\\beta_{cj,i}, \\quad p_i > p_{i+1}, \\\\\n",
    "\\beta_{cj,i+1}, \\quad p_i < p_{i+1}. \\end{cases} \n",
    "\\end{equation}\n",
    "Note: due to gravity or capillarity, it is possible that the same component is moving in different directions within different phases.\n",
    "\n",
    "For conventional compositional problems, it is easy to define new functions as a product of different nonlinear properties\n",
    "\\begin{equation}\n",
    "\\alpha_{c,i} = \\left([1+c_r(p-p^0)]\\rho_t z_c\\right)_i, \\quad \\beta_{c,i} = \\left(\\rho_o x_c \\frac{k_{ro}}{\\mu_o} + \\rho_g y_c \\frac{k_{rg}}{\\mu_g}\\right)_i.\n",
    "\\label{comp_operators}\n",
    "\\end{equation}\n",
    "Here we assume that $\\phi = \\phi^0(1+c_r(p-p^0)$, where $\\phi^0$ is porosity at $p^0$ and $c_r$ is rock compressibility.\n",
    "\n",
    "Notice that in this case, we use the general compositional formulation\n",
    "\\begin{equation}\n",
    "\\label{generic_formulation}\n",
    "g_{c,i}= \\frac{V\\phi^0}{\\Delta t}\\left(\\alpha_i^{n+1} -\\alpha_i^{n}\\right) %+ \\Gamma^w \\beta_c^w (p_i-p^w)\n",
    "-(\\Gamma \\beta_c)_{i+1/2} (p_{i+1}-p_{i})+(\\Gamma \\beta_c)_{i-1/2} (p_i-p_{i-1}), \\quad c = 1, \\ldots,C.\n",
    "\\end{equation}"
   ]
  },
  {
   "cell_type": "code",
   "execution_count": null,
   "id": "fd56c13e-0c46-4ac4-bfc9-117df1065690",
   "metadata": {
    "ExecuteTime": {
     "end_time": "2024-09-09T07:30:45.689411Z",
     "start_time": "2024-09-09T07:30:45.675411Z"
    }
   },
   "outputs": [],
   "source": [
    "def compute_residual(vars0, vars):\n",
    "    p0 = vars0[::nc]\n",
    "    p = vars[::nc]\n",
    "    p_m = p[:-1]\n",
    "    p_p = p[1:]\n",
    "    \n",
    "    \"\"\" Calculate the props of the previous time step \"\"\"\n",
    "    # Delete the first variable (pressure) from each cell in vars0 and extract the rest (composition)\n",
    "    z0 = np.delete(vars0, np.arange(0, len(vars0), nc))\n",
    "    reshaped_array0 = z0.reshape(nx, nc - 1)\n",
    "    # Get the overall mole fractions of all the components\n",
    "    zc0_full = np.hstack([reshaped_array0, 1 - np.sum(reshaped_array0, axis=1, keepdims=True)]).flatten()\n",
    "\n",
    "    # Pre-allocate total density (for accumulation term)\n",
    "    rho_t0 = np.zeros(nx)\n",
    "    for i in range(nx):\n",
    "        x, rho, s = compute_props(p0[i], zc0_full[i * nc:(i + 1) * nc])        \n",
    "        rho_t0[i] = s[0] * rho[0] + s[1] * rho[1]\n",
    "        \n",
    "    \"\"\" Calculate the props of the current time step \"\"\"\n",
    "    # Delete the first variable (pressure) from each cell in vars and extract the rest (composition)\n",
    "    z = np.delete(vars, np.arange(0, len(vars), nc))\n",
    "    reshaped_array = z.reshape(nx, nc - 1)\n",
    "    # Get the overall mole fractions of all the components\n",
    "    zc_full = np.hstack([reshaped_array, 1 - np.sum(reshaped_array, axis=1, keepdims=True)]).flatten()\n",
    "\n",
    "    # Pre-allocate props for both accumulation and upstream\n",
    "    sG = np.zeros(nx)\n",
    "    rhoG = np.zeros(nx)\n",
    "    rhoL = np.zeros(nx)\n",
    "    xG = np.zeros((nx, nc))\n",
    "    xL = np.zeros((nx, nc))\n",
    "    iup = np.arange(nx - 1)\n",
    "    \n",
    "    for i in range(nx):\n",
    "\n",
    "        x, rho, s = compute_props(p[i], zc_full[i * nc:(i + 1) * nc])\n",
    "\n",
    "        sG[i] = s[0]\n",
    "        xG[i, :], xL[i, :] = x[0, :], x[1, :]\n",
    "        rhoG[i], rhoL[i] = rho\n",
    "\n",
    "        if i < nx - 1: # arrange upwind array\n",
    "            if p[i] > p[i + 1]: \n",
    "                iup[i] = i\n",
    "            else:\n",
    "                iup[i] = i + 1\n",
    "\n",
    "    \"\"\" Construct residual equations \"\"\"\n",
    "    residual = np.zeros(nx * nc)\n",
    "    rho_t = sG * rhoG + (1 - sG) * rhoL\n",
    "    for c in range(nc):  # nc mass conservation equations\n",
    "        residual[c::nc] = PV * ((1 + compr_rock * (p - p_ref)) * rho_t * zc_full[c::nc] - \n",
    "                                (1 + compr_rock * (p0 - p_ref)) * rho_t0 * zc0_full[c::nc]) / dt\n",
    "\n",
    "        beta = rhoG[iup] * xG[iup, c] * sG[iup] ** nG / miuG + rhoL[iup] * xL[iup, c] * (1 - sG[iup]) ** nL / miuL\n",
    "\n",
    "        flux_c = - geometric_trans * beta * (p_p - p_m)\n",
    "\n",
    "        for j in range(nx - 1):\n",
    "            residual[j * nc + c] += flux_c[j]\n",
    "            residual[(j + 1) * nc + c] -= flux_c[j]\n",
    "\n",
    "    \n",
    "    return residual"
   ]
  },
  {
   "cell_type": "markdown",
   "id": "dd8b9465-d58c-4bf9-8f2c-46ba93592ee8",
   "metadata": {},
   "source": [
    "### Constructing the Jacobian matrix using numerical differentiation\n",
    "\n",
    "Here we use numerical derivatives to find Jacobian. When residual is implemented as a direct function of your nonlinear unknowns, it is very easy to make:\n",
    "\n",
    "\\begin{eqnarray}\n",
    "\\frac{\\partial r_i(p,z)}{\\partial p_j} &=& \\frac{r_i(p+\\delta_{ij}\\varepsilon, z) - r_i(p,z)}{\\varepsilon},\\\\\n",
    "\\frac{\\partial r_i(p,z)}{\\partial z_j} &=& \\frac{r_i(p, z+\\delta_{ij}\\varepsilon) - r_i(p,z)}{\\varepsilon}.\n",
    "\\end{eqnarray}\n",
    "\n",
    "{\\it Note: make sure that the perturbation parameter $\\varepsilon$  stays small, between $10^{-4}-10^{-8}$; make sure that it is adjusted to the characteristic value of your unknowns, e.g. $p\\approx 10^5-10^7$ Pa or $10^1-10^3$ bars, while $z\\in[0,1]$.}"
   ]
  },
  {
   "cell_type": "code",
   "execution_count": null,
   "id": "0006a7ab-fe63-45dd-8ff4-71ba91c016f3",
   "metadata": {
    "ExecuteTime": {
     "end_time": "2024-09-09T07:30:45.704816Z",
     "start_time": "2024-09-09T07:30:45.690703Z"
    }
   },
   "outputs": [],
   "source": [
    "def construct_Jacobian_matrix(vars0, vars):\n",
    "    jac = np.zeros((nx * nc, nx * nc))\n",
    "    residual = compute_residual(vars0, vars)\n",
    "\n",
    "    for i in range(nx):  # cell i\n",
    "        vars[i * nc + 0] += eps_p\n",
    "        jac[:, i * nc + 0] = (compute_residual(vars0, vars) - residual) / eps_p\n",
    "        vars[i * nc + 0] -= eps_p\n",
    "        for j in range(1, nc):\n",
    "            vars[i * nc + j] += eps_z\n",
    "            jac[:, i * nc + j] = (compute_residual(vars0, vars) - residual) / eps_z\n",
    "            vars[i * nc + j] -= eps_z\n",
    "\n",
    "    return residual, jac"
   ]
  },
  {
   "cell_type": "markdown",
   "id": "936336e8-b20a-4875-8418-d91b0f886fac",
   "metadata": {},
   "source": [
    "### Main simulator function"
   ]
  },
  {
   "cell_type": "code",
   "execution_count": null,
   "id": "a417ceef-dae9-4093-9941-9bbfc6860146",
   "metadata": {
    "ExecuteTime": {
     "end_time": "2024-09-09T07:30:45.719849Z",
     "start_time": "2024-09-09T07:30:45.706850Z"
    }
   },
   "outputs": [],
   "source": [
    "def simulate(vars0):\n",
    "    vars = np.array(vars0, copy=True)\n",
    "\n",
    "    total_iter_counter = 0  # counter for total iterations\n",
    "    total_runtime = 0\n",
    "\n",
    "    start = time.time()\n",
    "    \n",
    "    for ts_counter in range(num_ts):\n",
    "        vars0 = np.copy(vars)\n",
    "\n",
    "        ts_runtime = 0\n",
    "        \n",
    "        for iter_counter in range(max_num_NR_iterations):\n",
    "            residuals, jac = construct_Jacobian_matrix(vars0, vars)\n",
    "\n",
    "            res_norm = np.linalg.norm(residuals)\n",
    "\n",
    "            if res_norm < NR_tolerance:\n",
    "                total_iter_counter += iter_counter + 1\n",
    "                print(\"TS = %d, iter = %d, res = %e\" % (ts_counter, iter_counter, res_norm))\n",
    "                break\n",
    "\n",
    "            elif iter_counter == max_num_NR_iterations - 1 and res_norm > NR_tolerance:\n",
    "                raise Exception(\"Solution did not converge!\")\n",
    "\n",
    "            update = np.linalg.solve(jac, -residuals)\n",
    "            vars += update  # vars are updated here by adding the update\n",
    "\n",
    "\n",
    "    print('Total runtime = ', time.time() - start)\n",
    "    return vars"
   ]
  },
  {
   "cell_type": "markdown",
   "id": "55c577ab-8b70-4ed0-a166-9228631db0f9",
   "metadata": {},
   "source": [
    "### Specify the properties of the model"
   ]
  },
  {
   "cell_type": "code",
   "execution_count": null,
   "id": "ed0addc7-8b91-4c2f-98b2-b16a6cbc8659",
   "metadata": {
    "ExecuteTime": {
     "end_time": "2024-09-09T07:30:45.734850Z",
     "start_time": "2024-09-09T07:30:45.720849Z"
    }
   },
   "outputs": [],
   "source": [
    "## Define domain geometry\n",
    "nx = 50  # number of reservoir grid cells\n",
    "dx, dy, dz = 1, 5, 5   # meters\n",
    "\n",
    "## Specify rock props\n",
    "poro = 0.2\n",
    "perm = 1   # milli Darcy\n",
    "compr_rock = 0\n",
    "\n",
    "## Calculate the geometric part of transmissibility\n",
    "Darcy_coeff = 0.008526   # Darcy coefficient for unit conversion\n",
    "A = dy * dz\n",
    "geometric_trans = Darcy_coeff * perm * A / dx\n",
    "\n",
    "## Pore volume\n",
    "PV = np.array([dx * dy * dz] * nx) * poro "
   ]
  },
  {
   "cell_type": "markdown",
   "id": "41d60fbe-a608-4538-a46c-1c89dac9f68d",
   "metadata": {},
   "source": [
    "### Define fluid properies"
   ]
  },
  {
   "cell_type": "code",
   "execution_count": null,
   "id": "c4ff73f5-329a-4910-bf3b-619dbe865ea6",
   "metadata": {
    "ExecuteTime": {
     "end_time": "2024-09-09T07:30:45.750854Z",
     "start_time": "2024-09-09T07:30:45.735849Z"
    }
   },
   "outputs": [],
   "source": [
    "nc = 2  # number of components\n",
    "max_num_phases = 2 # numebr of phases\n",
    "# components: CO2, H2O\n",
    "K_values = np.array([10, 0.2])  # equilibrium ratios\n",
    "\n",
    "# Define pressure-dependent phase densities\n",
    "p_ref = 1  # bar\n",
    "rho_ref_gas = 200  # kg/m3\n",
    "rho_ref_liquid = 600\n",
    "compr_gas = 1e-3  # 1/bar\n",
    "compr_liquid = 1e-5  # 1/bar\n",
    "\n",
    "# Use constant phase viscosities\n",
    "miuL = 0.5\n",
    "miuG = 0.05\n",
    "\n",
    "# Use the Brooks-Corey model for phase relative permeabilities\n",
    "nG = 2\n",
    "nL = 2"
   ]
  },
  {
   "cell_type": "markdown",
   "id": "d835253e-4841-490f-8edd-ffb59ea9824b",
   "metadata": {},
   "source": [
    "### Set initial and boundary conditions"
   ]
  },
  {
   "cell_type": "code",
   "execution_count": null,
   "id": "88a4310d-fad2-4c2c-ba45-fdb271029033",
   "metadata": {
    "ExecuteTime": {
     "end_time": "2024-09-09T07:30:45.766994Z",
     "start_time": "2024-09-09T07:30:45.752849Z"
    }
   },
   "outputs": [],
   "source": [
    "# initial conditions\n",
    "z_init = [0.01, 0.99] # initial fluid composition\n",
    "cell_init = [150] + z_init[:-1] # pressure and nc-1 independent fractions\n",
    "vars0 = np.array(cell_init * nx)\n",
    "\n",
    "# boudnary conditions\n",
    "z_inj = [0.99, 0.01]  # injected fluid composition\n",
    "vars0[0:nc] = [250] + z_inj[:-1]  # injection pressure and nc-1 independent fractions\n",
    "\n",
    "# boundary volumes (large to preserve bc) \n",
    "PV[0]  = 1e8\n",
    "PV[-1] = 1e8"
   ]
  },
  {
   "cell_type": "markdown",
   "id": "195ac586-cb5b-484a-9379-af8e395d0dac",
   "metadata": {},
   "source": [
    "### Simulation parameters"
   ]
  },
  {
   "cell_type": "code",
   "execution_count": null,
   "id": "4f87cf20-1c11-4db8-98bb-2f5729dba144",
   "metadata": {
    "ExecuteTime": {
     "end_time": "2024-09-09T07:30:45.782283Z",
     "start_time": "2024-09-09T07:30:45.769077Z"
    }
   },
   "outputs": [],
   "source": [
    "dt = 5  # day\n",
    "num_ts = 10  # number of time steps\n",
    "\n",
    "max_num_NR_iterations = 200\n",
    "NR_tolerance = 1e-3\n",
    "\n",
    "# peretrubations for preseure and fractions\n",
    "eps_p = 0.01 \n",
    "eps_z = 0.0001"
   ]
  },
  {
   "cell_type": "markdown",
   "id": "d5d82e0a-a17d-46db-b2ca-a9e1fd74e826",
   "metadata": {},
   "source": [
    "### Start simulation"
   ]
  },
  {
   "cell_type": "code",
   "execution_count": null,
   "id": "0dae63da-6770-48b9-9e8a-db5370fdd369",
   "metadata": {
    "ExecuteTime": {
     "end_time": "2024-09-09T07:30:52.819226Z",
     "start_time": "2024-09-09T07:30:45.783313Z"
    }
   },
   "outputs": [],
   "source": [
    "vars = simulate(vars0)"
   ]
  },
  {
   "cell_type": "markdown",
   "id": "72c20413-dc00-4e06-a059-e827db5ba917",
   "metadata": {},
   "source": [
    "### Visualize results"
   ]
  },
  {
   "cell_type": "code",
   "execution_count": null,
   "id": "6ec3e174-6617-4f4e-a0da-b588d3c90923",
   "metadata": {
    "ExecuteTime": {
     "end_time": "2024-09-09T07:30:52.928741Z",
     "start_time": "2024-09-09T07:30:52.820359Z"
    }
   },
   "outputs": [],
   "source": [
    "fig = plt.figure()   \n",
    "fig, axes = plt.subplots(1, 2, figsize=(10, 4))\n",
    "x = np.arange(dx / 2, nx * dx, dx)\n",
    "\n",
    "ax = axes[0]\n",
    "ax.grid()\n",
    "ax.plot(x, vars[0::nc])\n",
    "ax.set_xlabel('x [meter]')\n",
    "ax.set_ylabel(\"Pressure [bar]\")\n",
    "\n",
    "ax = axes[1]\n",
    "ax.grid()\n",
    "\n",
    "for c in range(1, nc):\n",
    "    ax.plot(x, vars[c::nc])\n",
    "ax.set_xlabel('x [meter]')\n",
    "ax.set_ylabel(\"Overall fraction [-]\")\n",
    "\n",
    "plt.show()"
   ]
  },
  {
   "cell_type": "markdown",
   "id": "0fe8cb47-96ef-4afa-8170-159a49107c90",
   "metadata": {},
   "source": [
    "### <font color='blue'>Assignment: change simulator for 3 component system (add methane)"
   ]
  }
 ],
 "metadata": {
  "kernelspec": {
   "display_name": "Python 3 (ipykernel)",
   "language": "python",
   "name": "python3"
  },
  "language_info": {
   "codemirror_mode": {
    "name": "ipython",
    "version": 3
   },
   "file_extension": ".py",
   "mimetype": "text/x-python",
   "name": "python",
   "nbconvert_exporter": "python",
   "pygments_lexer": "ipython3",
   "version": "3.9.18"
  }
 },
 "nbformat": 4,
 "nbformat_minor": 5
}
