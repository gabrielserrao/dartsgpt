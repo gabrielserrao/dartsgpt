{
 "cells": [
  {
   "cell_type": "markdown",
   "id": "4b0f0c93",
   "metadata": {},
   "source": [
    "<img style=\"float: left;\" src=\"figures/DFN.png\" width=\"10%\">   \n",
    "\n",
    "# <font color='Blue'> $\\;$ A geothermal doublet in a fractured reservoir</font>"
   ]
  },
  {
   "cell_type": "markdown",
   "id": "2608e58a",
   "metadata": {},
   "source": [
    "## Import all important packages\n",
    "\n",
    "It includes two local files:\n",
    " * [Model](https://gitlab.com/open-darts/darts-models/-/blob/development/teaching/EAGE/model.py) with main model description\n",
    " * [Model_input](https://gitlab.com/open-darts/darts-models/-/blob/development/teaching/EAGE/model_input.py) with input parameters\n"
   ]
  },
  {
   "cell_type": "code",
   "execution_count": null,
   "id": "8a14f984",
   "metadata": {},
   "outputs": [],
   "source": [
    "import os\n",
    "import numpy as np\n",
    "import pandas as pd\n",
    "import pickle\n",
    "\n",
    "import matplotlib.pyplot as plt\n",
    "\n",
    "from darts.engines import redirect_darts_output\n",
    "from darts.tools.fracture_network.preprocessing_code import frac_preprocessing\n",
    "\n",
    "from model import Model\n",
    "from examples.input_default import input_data_default\n",
    "\n",
    "redirect_darts_output('dfm_model.log')"
   ]
  },
  {
   "cell_type": "markdown",
   "id": "b233c4ce",
   "metadata": {},
   "source": [
    "## Set parameters"
   ]
  },
  {
   "cell_type": "code",
   "execution_count": null,
   "id": "8339042d",
   "metadata": {},
   "outputs": [],
   "source": [
    "\n",
    "def input_data_case_1():\n",
    "    idata = input_data_default()\n",
    "\n",
    "    idata.geom['case_name'] = 'case_1'\n",
    "\n",
    "    # geometry\n",
    "    idata.geom['frac_file'] = os.path.join('examples', 'frac_1.txt')\n",
    "\n",
    "    # do not use cleaned mesh\n",
    "    #idata.geom['mesh_prefix'] = 'raw_lc'\n",
    "    idata.geom['mesh_prefix'] = 'mergefac_0.86_clean_lc'  #  cleaned mesh\n",
    "    idata.geom['mesh_clean'] = True \n",
    "\n",
    "    # cell sizes\n",
    "    idata.geom['char_len'] = 20  # near fractures (characteristic length for cleaning and mesh generation) [m]\n",
    "    idata.geom['char_len_boundary'] = 150  # grid size near grid boundaries [m]\n",
    "    idata.geom['char_len_well'] = 10  # grid size near wells [m]\n",
    "\n",
    "    # uniform initial pressure and temperature\n",
    "    idata.initial.type ='uniform'\n",
    "    idata.initial.initial_pressure = 250.  # bar\n",
    "    idata.initial.initial_temperature = 380  # K\n",
    "\n",
    "    # well locations\n",
    "    idata.geom['inj_well_coords'] = [[200, 200, 25]]  # X, Y, Z (only one perforation)\n",
    "    idata.geom['prod_well_coords'] = [[800, 800, 25]]\n",
    "\n",
    "    # well in the matrix cells or in the fractures\n",
    "    idata.geom['well_loc_type'] = 'wells_in_nearest_cell'\n",
    "\n",
    "    # extrusion - number of layers by Z axis\n",
    "    idata.geom['rsv_layers'] = 1\n",
    "\n",
    "    idata.geom['z_top'] = 2000  # [m]\n",
    "    idata.geom['height_res'] = 10  # [m]\n",
    "\n",
    "    idata.geom['frac_aper'] = 1e-3  # (initial) fracture aperture [m]\n",
    "\n",
    "    wctrl = idata.well_data.controls\n",
    "    wctrl.delta_temp = 40  # inj_temp = initial_temp - delta_temp\n",
    "    wctrl.delta_p_inj  = 20  # inj_bhp = initial_pressure + delta_p_inj\n",
    "    wctrl.delta_p_prod = 20  # inj_prod = initial_pressure - delta_p_prod\n",
    "\n",
    "    #idata.geom['box_data'] = np.array([[0, 0], [0, 1000], [1000, 0], [1000, 1000]])\n",
    "\n",
    "    return idata"
   ]
  },
  {
   "cell_type": "code",
   "execution_count": null,
   "id": "45d8d59a",
   "metadata": {},
   "outputs": [],
   "source": [
    "input_data = input_data_case_1()"
   ]
  },
  {
   "cell_type": "markdown",
   "id": "19fece46",
   "metadata": {},
   "source": [
    "## Plot Discrete Fractured Network (DFN)"
   ]
  },
  {
   "cell_type": "code",
   "execution_count": null,
   "id": "153ce912",
   "metadata": {},
   "outputs": [],
   "source": [
    "def plot_dfn(input_data):\n",
    "    frac_data_raw = np.genfromtxt(input_data.geom['frac_file'])\n",
    "\n",
    "    plt.gca().set_aspect('equal')\n",
    "    for i in range(frac_data_raw.shape[0]):\n",
    "        plt.plot(np.append(frac_data_raw[i, 0], frac_data_raw[i, 2]),\n",
    "                 np.append(frac_data_raw[i, 1], frac_data_raw[i, 3]))\n",
    "    \n",
    "    wells_inj = input_data.geom['inj_well_coords']\n",
    "    plt.plot(wells_inj[0][0], wells_inj[0][1], 'o', color='b', label='inj well')\n",
    "    wells_prod = input_data.geom['prod_well_coords']\n",
    "    plt.plot(wells_prod[0][0], wells_prod[0][1], 'o', color='r', label='prod well')\n",
    "    \n",
    "    plt.xlabel('X, m.')\n",
    "    plt.ylabel('Y, m.')\n",
    "    plt.legend()\n",
    "    plt.grid()\n",
    "    plt.show()"
   ]
  },
  {
   "cell_type": "code",
   "execution_count": null,
   "id": "220b3c60",
   "metadata": {},
   "outputs": [],
   "source": [
    "plot_dfn(input_data)"
   ]
  },
  {
   "cell_type": "markdown",
   "id": "7a80d86a",
   "metadata": {},
   "source": [
    "## Mesh generation\n",
    "\n",
    "For details on DFN mesh generation and parameters see https://doi.org/10.1029/2021WR030743."
   ]
  },
  {
   "cell_type": "code",
   "execution_count": null,
   "id": "c1c3d3d0",
   "metadata": {},
   "outputs": [],
   "source": [
    "# Read fracture tips from input_data['frac_file'] and generate a .geo text file (input for gmsh), then\n",
    "# call gmesh to create a mesh and output it to .msh text file, which will be used as an input to DARTS\n",
    "# These files are stored tin the 'meshes' folder, one mesh is original (raw) \n",
    "# and the second is optimized for calculation (cleaned)\n",
    "\n",
    "def generate_mesh(idata):\n",
    "    case_name = idata.geom['case_name']\n",
    "    print('case', case_name)\n",
    "    output_dir = 'meshes_' + case_name\n",
    "    \n",
    "    frac_data_raw = np.genfromtxt(input_data.geom['frac_file'])\n",
    "\n",
    "    if not os.path.exists(output_dir):\n",
    "        os.makedirs(output_dir)\n",
    "\n",
    "    # Input parameters for cleaning procedure\n",
    "    angle_tol_straighten = 7.5  # tolerance for straightening fracture segments [degrees]\n",
    "    merge_threshold = 0.86  # tolerance for merging nodes in algebraic constraint, values on interval [0.5, 0.86] [-]\n",
    "    angle_tol_remove_segm = np.arctan(0.35) * 180 / np.pi   # tolerance for removing accute intersections, values on interval [15, 25] [degrees]\n",
    "    decimals = 7  # in order to remove duplicates we need to have fixed number of decimals\n",
    "    mesh_raw = True#False  # need gmsh installed and callable from command line in order to mesh!!!\n",
    "    num_partition_x = 4  # number of partitions for parallel implementation of intersection finding algorithm\n",
    "    num_partition_y = 4  # \" ... \"\n",
    "\n",
    "    frac_preprocessing(frac_data_raw, char_len=idata.geom['char_len'], output_dir=output_dir, filename_base=idata.geom['case_name'], merge_threshold=merge_threshold, z_top=idata.geom['z_top'],\n",
    "                       height_res=idata.geom['height_res'], angle_tol_small_intersect=angle_tol_remove_segm, apertures_raw=None, box_data=idata.geom['box_data'], margin=idata.geom['margin'],\n",
    "                       mesh_clean=idata.geom['mesh_clean'], mesh_raw=mesh_raw, angle_tol_straighten=angle_tol_straighten, straighten_after_cln=True, decimals=decimals,\n",
    "                       tolerance_zero=1e-10, tolerance_intersect=1e-10, calc_intersections_before=False, calc_intersections_after=False,\n",
    "                       num_partition_x=num_partition_x, num_partition_y=num_partition_y, partition_fractures_in_segms=True, matrix_perm=1, correct_aperture=False,\n",
    "                       small_angle_iter=2, char_len_mult=1, char_len_boundary=idata.geom['char_len_boundary'], main_algo_iters=1,\n",
    "                       wells=None,#idata.geom['inj_well_coords']+idata.geom['prod_well_coords'],\n",
    "                       char_len_well=idata.geom['char_len_well'], input_data=idata.geom)"
   ]
  },
  {
   "cell_type": "code",
   "execution_count": null,
   "id": "d567a574",
   "metadata": {},
   "outputs": [],
   "source": [
    "# need gmsh installed and callable from command line in order to mesh or gmsh python package installed\n",
    "generate_mesh(input_data)"
   ]
  },
  {
   "cell_type": "markdown",
   "id": "0d596a89",
   "metadata": {},
   "source": [
    "## Run simulation"
   ]
  },
  {
   "cell_type": "code",
   "execution_count": null,
   "id": "035d179e",
   "metadata": {},
   "outputs": [],
   "source": [
    "m = Model(input_data)\n",
    "m.set_sim_params(first_ts=1e-2, mult_ts=2, max_ts=60, tol_newton=1e-3, tol_linear=1e-4, it_newton=10, it_linear=50)\n",
    "m.init()\n",
    "m.set_output(output_folder='output_3')\n",
    "\n",
    "# output initial solution to vtk file\n",
    "output_dir = m.output_folder + '/vtk_output_dfn'\n",
    "\n",
    "# run simulation for 365 days\n",
    "m.run(365)\n",
    "\n",
    "# output current timestep to vtk file\n",
    "output_props=m.physics.vars+m.output.properties\n",
    "m.output.output_to_vtk(ith_step=1, output_directory=output_dir, output_properties=output_props)"
   ]
  },
  {
   "cell_type": "markdown",
   "id": "362b8f93",
   "metadata": {},
   "source": [
    "## Plot temperature and rates"
   ]
  },
  {
   "cell_type": "code",
   "execution_count": null,
   "id": "3bb00e03",
   "metadata": {},
   "outputs": [],
   "source": [
    "# postprocessing\n",
    "td = m.output.store_well_time_data()\n",
    "time_data = pd.DataFrame.from_dict(td) \n",
    "time_data['Time (years)'] = time_data['time']/365.\n",
    "time_data['well_P1_BHT'] -= 273.15 # Convert well_P1_BHT from Kelvin to Celsius\n",
    "\n",
    "# save time data as a .pkl file\n",
    "pkl_fname = 'time_data.pkl'\n",
    "pickle.dump(time_data, open(pkl_fname, 'wb'))\n",
    "\n",
    "# Plot BHT over time\n",
    "time_data.plot(x='Time (years)', y='well_P1_BHT', title='Bottom Hole Temperature')\n",
    "plt.ylabel('Temperature (°C)')\n",
    "plt.grid(True)\n",
    "\n",
    "# Plot volumetric water rate over time\n",
    "time_data.plot(x='Time (years)', y='well_P1_volumetric_rate_water_at_wh', \n",
    "               title='Water Production Rate at Wellhead')\n",
    "plt.ylabel('Volumetric Rate (m³/day)')\n",
    "plt.grid(True)\n",
    "plt.show()"
   ]
  },
  {
   "cell_type": "markdown",
   "id": "50cf8306",
   "metadata": {},
   "source": [
    "## Plot temperature map"
   ]
  },
  {
   "cell_type": "code",
   "execution_count": null,
   "id": "c16ead78",
   "metadata": {},
   "outputs": [],
   "source": [
    "def plot_pyvista(input_data, output_dir):\n",
    "    import pyvista as pv\n",
    "\n",
    "    vtk_fname = os.path.join(output_dir, 'solution_ts1.vtu')\n",
    "\n",
    "    # get vts data\n",
    "    mesh = pv.read(vtk_fname)\n",
    "\n",
    "    # define plotter\n",
    "    plotter = pv.Plotter()\n",
    "\n",
    "    # set temperature as active scalar\n",
    "    temp = mesh.set_active_scalars('temperature[K]')\n",
    "    # add threshold levels\n",
    "    thresT = mesh.threshold([60+273.15, 110+273.15], invert=False)\n",
    "    \n",
    "    # set fracture as active scalar\n",
    "    mesh.set_active_scalars('matrix_cell_bool')\n",
    "    # plot only fractures (0 index)\n",
    "    thresF = mesh.threshold([0, 0], invert=False)\n",
    "    # add outline of mesh\n",
    "    outline = mesh.outline()\n",
    "\n",
    "    # add elements to plotter\n",
    "    plotter.set_background('#52576c')\n",
    "    plotter.add_mesh(outline, color='k')\n",
    "    try: # in case there is an issue in PyVista \"'NoneType' object is not callable\"\n",
    "        plotter.add_mesh(thresT, cmap='coolwarm', opacity=0.99,\n",
    "                     scalar_bar_args={'title':'Temperature (\\N{DEGREE SIGN}C)'})\n",
    "        plotter.add_mesh(thresF, show_scalar_bar=False, cmap='coolwarm')\n",
    "    except:\n",
    "        plotter.add_mesh(thresT, opacity=0.99,\n",
    "                     scalar_bar_args={'title':'Temperature (\\N{DEGREE SIGN}C)'})\n",
    "        plotter.add_mesh(thresF, show_scalar_bar=False)\n",
    "    \n",
    "    # add wells as lines\n",
    "    wells_inj = input_data.geom['inj_well_coords']\n",
    "    wells_prod = input_data.geom['prod_well_coords']\n",
    "\n",
    "    i = 0\n",
    "\n",
    "    injline = np.array([[wells_inj[i][0], wells_inj[i][1], 2000], [wells_inj[i][0], wells_inj[i][1], 2200]])\n",
    "    prodline = np.array([[wells_prod[i][0], wells_prod[i][1], 2000], [wells_prod[i][0], wells_prod[i][1], 2200]])\n",
    "\n",
    "    plotter.add_lines(injline, color='b', name='injector')\n",
    "    plotter.add_lines(prodline, color='r', name='producer')\n",
    "    plotter.add_axes(line_width=5, labels_off=False)\n",
    "    plotter.camera_position = [-2,-5,3] \n",
    "    plotter.camera.zoom(1.3)\n",
    "    \n",
    "    plotter.show()"
   ]
  },
  {
   "cell_type": "code",
   "execution_count": null,
   "id": "7b67fe4b",
   "metadata": {},
   "outputs": [],
   "source": [
    "# plot temperature map from vtk file\n",
    "plot_pyvista(input_data, output_dir)"
   ]
  },
  {
   "cell_type": "markdown",
   "id": "d0e4c56b",
   "metadata": {},
   "source": [
    "## <font color='Blue'>Tasks in this workshop:</font>\n",
    "\n",
    "Plot and copy production temperature and rates after each task items:\n",
    "\n",
    "1. Run simulation for 10 years and compare well output and the temperature map\n",
    "2. Change the reservoir thickness to 100 m and compare well output \n",
    "3. Change matrix permeability to granite (0.01 mD) and compare well output\n",
    "4. Change matrix permeability to sandstone (100 mD) and compare well output\n",
    "\n",
    "More details on modeling of geothermal energy production in fractured reservoirs can be found in https://doi.org/10.1016/j.advwatres.2021.103985 "
   ]
  }
 ],
 "metadata": {
  "kernelspec": {
   "display_name": "Python 3 (ipykernel)",
   "language": "python",
   "name": "python3"
  },
  "language_info": {
   "codemirror_mode": {
    "name": "ipython",
    "version": 3
   },
   "file_extension": ".py",
   "mimetype": "text/x-python",
   "name": "python",
   "nbconvert_exporter": "python",
   "pygments_lexer": "ipython3",
   "version": "3.10.18"
  }
 },
 "nbformat": 4,
 "nbformat_minor": 5
}
