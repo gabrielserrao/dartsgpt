{
 "cells": [
  {
   "cell_type": "markdown",
   "metadata": {},
   "source": [
    "<img style=\"float: left;\" src=\"figures/first_results.png\" width=\"15%\"> \n",
    "\n",
    "# <font color='Blue'>Basic geothermal model</font>"
   ]
  },
  {
   "cell_type": "markdown",
   "metadata": {},
   "source": [
    "## <font color='blue'>Introduction</font>\n",
    "\n",
    "#### In the first case study, we cover the basic structures and procedures to run simulation with DARTS. \n",
    "#### DARTS contains a main module engine: \n",
    "* <font color='red'>engines</font>  \n",
    "    \n",
    "#### This module is programmed in C++ and exposed to python with compiled packages (libraries) named as\n",
    "* <font color='red'>engines.pyd</font>\n",
    "  \n",
    "#### The module engines.pyd provides the run-simulation needed functionalities, like\n",
    "* reservoir (mesh) initialization\n",
    "* well settings\n",
    "* interpolation operation\n",
    "* jacobian assembly\n",
    "* linear and nonlinear iteration\n",
    "\n",
    "#### The module engines.pyd can be found in the folder <font color='red'>'darts'</font>:"
   ]
  },
  {
   "cell_type": "code",
   "execution_count": null,
   "metadata": {},
   "outputs": [],
   "source": [
    "import darts\n",
    "import os\n",
    "dirs = os.listdir(os.path.dirname(darts.__file__))\n",
    "for f in dirs:\n",
    "   print(f)"
   ]
  },
  {
   "cell_type": "markdown",
   "metadata": {},
   "source": [
    "## <font color='blue'>The objectives for the first exercise</font>\n",
    "1. Be familiar with the basic procedures to run a simulation\n",
    "2. Exercise on several simulation parameters including timestep controls and mesh "
   ]
  },
  {
   "cell_type": "markdown",
   "metadata": {},
   "source": [
    "## 1D Model can be divided into following parts:\n",
    "<img style=\"float: left;\" src=\"slides/Slide4.PNG\" width=\"60%\">"
   ]
  },
  {
   "cell_type": "markdown",
   "metadata": {},
   "source": [
    "## <font color='blue'>Let's start !</font>\n",
    "### Step 1. We need to import <font color='red'>engines</font> and nessesary physical properties into the workspace, just like the import of commonly-used modules such as numpy etc."
   ]
  },
  {
   "cell_type": "code",
   "execution_count": null,
   "metadata": {
    "scrolled": true
   },
   "outputs": [],
   "source": [
    "'''Import all important packages from DARTS installation'''\n",
    "from darts.engines import *\n",
    "from darts.models.darts_model import DartsModel as model\n",
    "from darts.physics.geothermal.physics import Geothermal\n",
    "from darts.physics.geothermal.property_container import PropertyContainer\n",
    "from darts.physics.properties.iapws.iapws_property_vec import _Backward1_T_Ph_vec\n",
    "from darts.physics.properties.iapws.iapws_property import iapws_total_enthalpy_evalutor, iapws_temperature_evaluator\n",
    "\n",
    "from darts.engines import redirect_darts_output\n",
    "redirect_darts_output('basic_model.log')\n",
    "\n",
    "import numpy as np\n",
    "import matplotlib.pyplot as plt"
   ]
  },
  {
   "cell_type": "markdown",
   "metadata": {},
   "source": [
    "### Step 2. We need to specify the time recorder, which could help to make sure about the performance of the simulator in different parts. Timers can be created in hierachical order."
   ]
  },
  {
   "cell_type": "markdown",
   "metadata": {},
   "source": [
    "<img style=\"float: left;\" src=\"slides/Slide6.PNG\" width=\"60%\">"
   ]
  },
  {
   "cell_type": "code",
   "execution_count": null,
   "metadata": {},
   "outputs": [],
   "source": [
    "'''Activate main timers for simulation'''\n",
    "def activate_timer():\n",
    "    # Call class constructor and Build timer_node object\n",
    "    timer = timer_node()\n",
    "\n",
    "    # Call object members; there are 2 types of members:\n",
    "    ## <1>Function member:\n",
    "    timer.start()\n",
    "    ## <2>Data member:\n",
    "    timer.node[\"simulation\"] = timer_node()\n",
    "    timer.node[\"initialization\"] = timer_node()\n",
    "\n",
    "    # Start initialization\n",
    "    timer.node[\"initialization\"].start()\n",
    "    \n",
    "    return timer"
   ]
  },
  {
   "cell_type": "markdown",
   "metadata": {},
   "source": [
    "### Step 3. Simulation parameters setting. Here we specify the simulation parameters, e.g.:\n",
    "\n",
    "* timestep strategy (first_ts, max_ts, mult_ts)\n",
    "* convergence criteria (tolerance of nonlinear iteration and other parameters controlling iterations)"
   ]
  },
  {
   "cell_type": "markdown",
   "metadata": {},
   "source": [
    "<img style=\"float: left;\" src=\"slides/Slide7.PNG\" width=\"60%\">"
   ]
  },
  {
   "cell_type": "code",
   "execution_count": null,
   "metadata": {},
   "outputs": [],
   "source": [
    "'''Define main parameters for simulation by overwriting default parameters'''\n",
    "\n",
    "from darts.engines import sim_params\n",
    "from darts.models.darts_model import DataTS\n"
   ]
  },
  {
   "cell_type": "markdown",
   "metadata": {},
   "source": [
    "### Step 4. Mesh initialization\n",
    "<img style=\"float: left;\" src=\"slides/Slide8.PNG\" width=\"60%\">"
   ]
  },
  {
   "cell_type": "markdown",
   "metadata": {},
   "source": [
    "<img style=\"float: left;\" src=\"slides/Slide9.PNG\" width=\"60%\">"
   ]
  },
  {
   "cell_type": "code",
   "execution_count": null,
   "metadata": {},
   "outputs": [],
   "source": [
    "'''Mesh initialization for 1D reservoir with constant transmissibility'''\n",
    "def init_mesh(nb):\n",
    "    # Create mesh object by calling the class constructor\n",
    "    mesh = conn_mesh()\n",
    "\n",
    "    # Create connection list for 1D reservoir \n",
    "    block_m = np.arange(nb - 1, dtype=np.int32)\n",
    "    block_p = block_m + 1\n",
    "\n",
    "    # Set constant transmissbility\n",
    "    permeability = 2\n",
    "    tranD = np.ones(nb - 1) * 1e-3 * nb \n",
    "    tran = tranD * permeability\n",
    "\n",
    "    # Initialize mesh with connection list\n",
    "    mesh.init(index_vector(block_m), index_vector(block_p),\n",
    "              value_vector(tran), value_vector(tranD))\n",
    "\n",
    "    # Complete mesh initialization\n",
    "    mesh.reverse_and_sort()\n",
    "    \n",
    "    return mesh"
   ]
  },
  {
   "cell_type": "markdown",
   "metadata": {},
   "source": [
    "### Step 5. Define reservoir properties\n",
    "* connecting numpy arrays to the mesh\n",
    "* fill porosity, depth, volume, conduction and heat capacity\n",
    "* imitate boundary conditions with large volumes"
   ]
  },
  {
   "cell_type": "markdown",
   "metadata": {},
   "source": [
    "<img style=\"float: left;\" src=\"slides/Slide10.PNG\" width=\"60%\">"
   ]
  },
  {
   "cell_type": "code",
   "execution_count": null,
   "metadata": {},
   "outputs": [],
   "source": [
    "'''Define basic properties for the reservoir'''\n",
    "def define_reservoir(nb, hcap_in, cond_in):\n",
    "    # Create numpy arrays wrapped around mesh data (no copying)\n",
    "    volume = np.array(mesh.volume, copy=False)\n",
    "    porosity = np.array(mesh.poro, copy=False)\n",
    "    depth = np.array(mesh.depth, copy=False)\n",
    "\n",
    "    # Thermal properties\n",
    "    hcap = np.array(mesh.heat_capacity, copy=False)\n",
    "    cond = np.array(mesh.rock_cond, copy=False)\n",
    "\n",
    "    # Assign volume, porosity and depth values\n",
    "    volume.fill(3000 / nb)\n",
    "    porosity.fill(0.2)\n",
    "    depth.fill(1000)\n",
    "   \n",
    "    # Assign thermal properties\n",
    "    hcap.fill(hcap_in)\n",
    "    cond.fill(cond_in)\n",
    "    \n",
    "    # Make first and last blocks large (source/sink)\n",
    "    volume[0] = 1e10\n",
    "    volume[nb-1] = 1e10    "
   ]
  },
  {
   "cell_type": "markdown",
   "metadata": {},
   "source": [
    "### Step 6. Boundary and initial conditions\n",
    "* initial reservoir conditions\n",
    "* pressure source and sink\n",
    "* translation from temperature to enthalpy"
   ]
  },
  {
   "cell_type": "markdown",
   "metadata": {},
   "source": [
    "<img style=\"float: left;\" src=\"slides/Slide11.PNG\" width=\"60%\">"
   ]
  },
  {
   "cell_type": "code",
   "execution_count": null,
   "metadata": {},
   "outputs": [],
   "source": [
    "'''Mimic boundary conditions for the reservoir'''\n",
    "def define_initial_conditions():\n",
    "    # Create numpy wrappers for initial solution\n",
    "    input_distribution = {'pressure': np.ones(nb) * 200.,\n",
    "                          'temperature': np.ones(nb) * 348,\n",
    "                          }\n",
    "\n",
    "    # Assign initial pressure values\n",
    "    input_distribution['pressure'][0] = 250\n",
    "    input_distribution['pressure'][nb-1] = 150\n",
    "\n",
    "    # Assign enthalpy values:\n",
    "    # first, define initial temperature (Kelvin) ...\n",
    "    input_distribution['temperature'][0] = 308\n",
    "\n",
    "    return input_distribution"
   ]
  },
  {
   "cell_type": "markdown",
   "metadata": {},
   "source": [
    "### Step 7. Physics initialization\n",
    "* translate temperature range to enthalpy\n",
    "* initialize physical ranges"
   ]
  },
  {
   "cell_type": "markdown",
   "metadata": {},
   "source": [
    "<img style=\"float: left;\" src=\"slides/Slide12.PNG\" width=\"60%\">"
   ]
  },
  {
   "cell_type": "code",
   "execution_count": null,
   "metadata": {},
   "outputs": [],
   "source": [
    "# Define function to calculate enthalpy range corresponding to given pressure and temperature ranges\n",
    "def calc_enthalpy_range(pres, temp):\n",
    "    min_e = 1e5\n",
    "    max_e = 0\n",
    "    for i in range(len(pres)):\n",
    "        for j in range(len(pres)):\n",
    "            state = value_vector([pres[i], 0])\n",
    "            E = iapws_total_enthalpy_evalutor()\n",
    "            enth = E.evaluate(state, temp[i])\n",
    "            if min_e > enth:\n",
    "                min_e = enth\n",
    "            if max_e < enth:\n",
    "                max_e = enth\n",
    "    return min_e, max_e\n",
    "\n",
    "'''Create physics from predefined properties from DARTS package'''\n",
    "def define_physics():\n",
    "    # Define pressure and temperature ranges for the problem\n",
    "    min_p = 1\n",
    "    max_p = 351\n",
    "    min_T = 273.15\n",
    "    max_T = 500\n",
    "\n",
    "    # Define amount of points for OBL \n",
    "    n_points = 64\n",
    "    \n",
    "    # Evaluate enthalpy range\n",
    "    min_e, max_e  = calc_enthalpy_range([min_p, max_p], [min_T, max_T]) \n",
    "\n",
    "    # Build physics class; the format of constructor:\n",
    "    # Geothermal(timer, n_points, min_pres, max_pres, min_enth, max_enth)\n",
    "    property_container = PropertyContainer()\n",
    "    physics = Geothermal(timer, n_points, min_p, max_p, min_e, max_e)\n",
    "    physics.add_property_region(property_container)\n",
    "    physics.init_physics()\n",
    "\n",
    "    return physics"
   ]
  },
  {
   "cell_type": "markdown",
   "metadata": {},
   "source": [
    "### Step 8. Engine initialization and run\n",
    "<img style=\"float: left;\" src=\"slides/Slide13.PNG\" width=\"60%\">"
   ]
  },
  {
   "cell_type": "code",
   "execution_count": null,
   "metadata": {},
   "outputs": [],
   "source": [
    "# Define function to convert enthalpy to temperature\n",
    "def enthalpy_to_temperature(pres, enth):\n",
    "    state = value_vector([0, 0])\n",
    "    temp = np.zeros(len(pres))\n",
    "    T = iapws_temperature_evaluator()\n",
    "    for i in range(len(pres)):\n",
    "        state[0] = pres[i]\n",
    "        state[1] = enth[i]\n",
    "        temp[i] = T.evaluate(state)\n",
    "    return temp\n",
    "\n",
    "# Define function to plot data profiles\n",
    "%matplotlib inline\n",
    "def plot_profile(data, name, sp, ax):\n",
    "    n = len(data)    \n",
    "    ax.plot(np.arange(n), data[0:n], 'o')\n",
    "    ax.set_xlabel('Grid index')\n",
    "    ax.set_ylabel('%s' % (name))"
   ]
  },
  {
   "cell_type": "code",
   "execution_count": null,
   "metadata": {},
   "outputs": [],
   "source": [
    "# create all model parameters\n",
    "nb = 30\n",
    "timer = activate_timer()\n",
    "\n",
    "mesh = init_mesh(nb)\n",
    "define_reservoir(nb, hcap_in=2200, cond_in=200)\n",
    "\n",
    "physics = define_physics()\n",
    "input_distribution = define_initial_conditions()\n",
    "physics.set_initial_conditions_from_array(mesh, input_distribution)\n",
    "\n",
    "m = model()\n",
    "\n",
    "# Initialize engine\n",
    "physics.engine.init(mesh, ms_well_vector(),\n",
    "                    op_vector([physics.acc_flux_itor[0]]),\n",
    "                    m.params, \n",
    "                    timer.node[\"simulation\"])\n",
    "\n",
    "m.physics = physics\n",
    "m.platform = 'cpu'\n",
    "\n",
    "m.set_sim_params(first_ts=0.01, mult_ts=4, max_ts=1)\n",
    "\n",
    "# Stop initialization timer\n",
    "timer.node[\"initialization\"].stop()\n",
    "\n",
    "# Run simulator for 2000 days\n",
    "m.run_simple(physics=physics, days=2000, data_ts=m.data_ts)\n",
    "\n",
    "# Print timers (note where most of the time was spent!)\n",
    "print(timer.print(\"\", \"\"))"
   ]
  },
  {
   "cell_type": "markdown",
   "metadata": {},
   "source": [
    "### Step 9. Data processing and plots"
   ]
  },
  {
   "cell_type": "markdown",
   "metadata": {},
   "source": [
    "<img style=\"float: left;\" src=\"slides/Slide14.PNG\" width=\"60%\">"
   ]
  },
  {
   "cell_type": "code",
   "execution_count": null,
   "metadata": {},
   "outputs": [],
   "source": [
    "# Get numpy wrapper for final solution\n",
    "X = np.array(physics.engine.X, copy=False)\n",
    "\n",
    "# Prepare for plotting\n",
    "fig = plt.figure()   \n",
    "\n",
    "nc = 2\n",
    "\n",
    "fig, axes = plt.subplots(1, 2, figsize=(10, 4))\n",
    "# Plot pressure profile\n",
    "plot_profile(X[0:nc*nb:nc],'Pressure, bar', 1, axes[0])\n",
    "# Convert enthalpy to temperature first before plotting\n",
    "temp = enthalpy_to_temperature(X[0::2], X[1::2])\n",
    "# Plot temperature profile\n",
    "plot_profile(temp[0:nb]-273.15,'Temperature, C',2,axes[1])\n",
    "plt.show()"
   ]
  },
  {
   "cell_type": "markdown",
   "metadata": {},
   "source": [
    "## <font color='Blue'>Reference solution:</font>\n",
    "<img style=\"float: left;\" src=\"figures/first_results.png\" width=\"80%\">"
   ]
  },
  {
   "cell_type": "markdown",
   "metadata": {},
   "source": [
    "## <font color='Blue'>Tasks in this workshop</font>\n",
    "\n",
    "Plot and copy solution figure after each task items.\n",
    "\n",
    "1. Change maximum timestep from 1 to 200 days.\n",
    "2. Change number of gridblocks from 30 to 300 and return timestep to 1.\n",
    "3. Reduce rock heat capacity by 2 times and use resolution 300.\n",
    "4. Increase rock thermal conductivity by 100 times and return heat capacity back.\n"
   ]
  },
  {
   "cell_type": "code",
   "execution_count": null,
   "metadata": {},
   "outputs": [],
   "source": []
  }
 ],
 "metadata": {
  "kernelspec": {
   "display_name": "Python 3 (ipykernel)",
   "language": "python",
   "name": "python3"
  },
  "language_info": {
   "codemirror_mode": {
    "name": "ipython",
    "version": 3
   },
   "file_extension": ".py",
   "mimetype": "text/x-python",
   "name": "python",
   "nbconvert_exporter": "python",
   "pygments_lexer": "ipython3",
   "version": "3.10.18"
  }
 },
 "nbformat": 4,
 "nbformat_minor": 4
}
