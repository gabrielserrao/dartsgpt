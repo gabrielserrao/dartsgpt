{
 "cells": [
  {
   "cell_type": "markdown",
   "metadata": {},
   "source": [
    "<img style=\"float: left;\" src=\"figures/Perm.png\" width=\"20%\">   \n",
    "\n",
    "# <font color='Blue'> $\\;$ Geothermal doublet in fluvial reservoir</font>"
   ]
  },
  {
   "cell_type": "markdown",
   "metadata": {},
   "source": [
    "## <font color='Blue'>Introduction</font>\n",
    "###  In this exercise, we run simulation in a 3D channelized reservoir.\n",
    "\n",
    "## <font color='blue'>The objectives:</font>\n",
    "1. Introduce custom <font color='red'>'Model'</font> class based on \n",
    " * Class [DartsModel](https://gitlab.com/open-darts/open-darts/-/blob/development/darts/models/darts_model.py) with base model capabilities\n",
    " * Class [StructReservoir](https://gitlab.com/open-darts/open-darts/-/blob/development/darts/reservoirs/struct_reservoir.py) with structured reservoir\n",
    " * Class [GeothermalPhysics](https://gitlab.com/open-darts/open-darts/-/blob/development/darts/physics/geothermal/physics.py) for geothermal engine is used\n",
    " * Class [PropertyContainer](https://gitlab.com/open-darts/open-darts/-/blob/development/darts/physics/geothermal/property_container.py) for allocating property evaluator needed in the simulation\n",
    " * Class [GeothermalProperties](https://gitlab.com/open-darts/open-darts/-/blob/development/darts/physics/properties/iapws/iapws_property.py) for geothermal fluid based on IAPWS-97 Equatipn of State.\n",
    "2. Use run_python procedure to control run from the python script\n",
    "3. Introduce wells and change their location"
   ]
  },
  {
   "cell_type": "markdown",
   "metadata": {},
   "source": [
    "<img style=\"float: left;\" src=\"slides/Slide15.PNG\" width=\"60%\">"
   ]
  },
  {
   "cell_type": "markdown",
   "metadata": {},
   "source": [
    "<img style=\"float: left;\" src=\"slides/Slide16.PNG\" width=\"60%\">"
   ]
  },
  {
   "cell_type": "markdown",
   "metadata": {},
   "source": [
    "<img style=\"float: left;\" src=\"slides/Slide17.PNG\" width=\"60%\">"
   ]
  },
  {
   "cell_type": "code",
   "execution_count": null,
   "metadata": {},
   "outputs": [],
   "source": [
    "from darts.reservoirs.struct_reservoir import StructReservoir\n",
    "from darts.physics.geothermal.physics import Geothermal\n",
    "from darts.physics.geothermal.property_container import PropertyContainer\n",
    "from darts.models.darts_model import DartsModel\n",
    "from darts.tools.keyword_file_tools import load_single_keyword\n",
    "from darts.engines import redirect_darts_output, well_control_iface\n",
    "\n",
    "import numpy as np\n",
    "\n",
    "redirect_darts_output('fluvial_model.log')"
   ]
  },
  {
   "cell_type": "markdown",
   "metadata": {},
   "source": [
    "## <font color='Blue'>Brief Introduction of model inheritance:</font>\n",
    "\n",
    "* Here create the <font color='red'>'Model' </font>  class, which inherits from <font color='red'>DartsModel</font> (the base class).\n",
    "* It keeps all the functionalities of <font color='red'>DartsModel</font> and can also be extended to add more functionalities.\n",
    "* If a function is redefined in subclass, the function in base class with identical name will be overridden."
   ]
  },
  {
   "cell_type": "code",
   "execution_count": null,
   "metadata": {},
   "outputs": [],
   "source": [
    "class Model(DartsModel):\n",
    "    def __init__(self, n_points=128):\n",
    "        # call base class constructor\n",
    "        super().__init__()\n",
    "        \n",
    "        self.timer.node[\"initialization\"].start()\n",
    "        \n",
    "        # parameters for the reservoir\n",
    "        (nx, ny, nz) = (60, 60, 3)\n",
    "        nb   = nx * ny * nz\n",
    "        perm = np.ones(nb) * 2000\n",
    "        #perm = load_single_keyword('perm.in', 'PERMX')\n",
    "        #perm = perm[:nb]\n",
    "        \n",
    "        poro = np.ones(nb) * 0.2\n",
    "        self.dx = 30\n",
    "        self.dy = 30\n",
    "        dz   = np.ones(nb) * 30\n",
    "                \n",
    "        # discretize structured reservoir\n",
    "        self.reservoir = StructReservoir(self.timer, nx=nx, ny=ny, nz=nz, dx=self.dx, dy=self.dy, dz=dz, permx=perm,\n",
    "                                         permy=perm, permz=perm*0.1, poro=poro, depth=2000, hcap=2200, rcond=500)\n",
    "        \n",
    "        # add open boundaries\n",
    "        self.reservoir.boundary_volumes['yz_minus'] = 1e8\n",
    "        self.reservoir.boundary_volumes['yz_plus'] = 1e8\n",
    "        self.reservoir.boundary_volumes['xz_minus'] = 1e8\n",
    "        self.reservoir.boundary_volumes['xz_plus'] = 1e8\n",
    "                                           \n",
    "        # add well's locations\n",
    "        self.iw = [30, 30]\n",
    "        self.jw = [14, 46]\n",
    "\n",
    "        # create pre-defined physics for geothermal\n",
    "        property_container = PropertyContainer()\n",
    "        property_container.output_props = {'T,degrees': lambda: property_container.temperature - 273.15}\n",
    "        \n",
    "        self.physics = Geothermal(self.timer, n_points, 1, 351, 1000, 10000, cache=False)\n",
    "        self.physics.add_property_region(property_container)\n",
    "        self.physics.init_physics()\n",
    "        \n",
    "        # timestep parameters\n",
    "        self.set_sim_params(mult_ts=2, first_ts=1e-3, max_ts=365, tol_newton=1e-2)\n",
    "\n",
    "        self.timer.node[\"initialization\"].stop()\n",
    "    \n",
    "    def set_wells(self):\n",
    "        self.reservoir.add_well(\"INJ\")\n",
    "        for k in range(1, self.reservoir.nz):\n",
    "            self.reservoir.add_perforation(\"INJ\", cell_index=(self.iw[0], self.jw[0], k + 1),\n",
    "                                           well_radius=0.16, multi_segment=True)\n",
    "\n",
    "        # add well\n",
    "        self.reservoir.add_well(\"PRD\")\n",
    "        for k in range(1, self.reservoir.nz):\n",
    "            self.reservoir.add_perforation(\"PRD\", cell_index=(self.iw[1], self.jw[1], k + 1),\n",
    "                                           well_radius=0.16, multi_segment=True)\n",
    "\n",
    "\n",
    "    def set_initial_conditions(self):\n",
    "        # initialization with constant pressure and temperature\n",
    "        input_distribution = {\"pressure\": 200.,\n",
    "                              \"temperature\": 350.\n",
    "                             }\n",
    "        self.physics.set_initial_conditions_from_array(mesh=self.reservoir.mesh, input_distribution=input_distribution)\n",
    "\n",
    "    def set_well_controls(self):\n",
    "        # activate wells with rate control for injector and producer\n",
    "        for i, w in enumerate(self.reservoir.wells):\n",
    "            if 'INJ' in w.name:\n",
    "                self.physics.set_well_controls(wctrl=w.control,\n",
    "                                               control_type=well_control_iface.VOLUMETRIC_RATE,\n",
    "                                               is_inj=True,\n",
    "                                               target=5000,\n",
    "                                               phase_name='water', \n",
    "                                               inj_temp=300\n",
    "                                               )\n",
    "            else:\n",
    "                self.physics.set_well_controls(wctrl=w.control,\n",
    "                                               control_type=well_control_iface.VOLUMETRIC_RATE, \n",
    "                                               is_inj=False, \n",
    "                                               target=5000\n",
    "                                               )"
   ]
  },
  {
   "cell_type": "markdown",
   "metadata": {},
   "source": [
    "## <font color='Blue'>Now we can run the model:</font>"
   ]
  },
  {
   "cell_type": "code",
   "execution_count": null,
   "metadata": {},
   "outputs": [],
   "source": [
    "m = Model()\n",
    "m.init()\n",
    "m.set_output(output_folder='output_2')\n",
    "\n",
    "# output initial conditions\n",
    "prop_list = m.physics.vars + m.output.properties\n",
    "m.output.output_to_vtk(output_properties=prop_list, ith_step=0)\n",
    "m.run(1e-3)\n",
    "\n",
    "for t in range(3):\n",
    "    # run and output every 10 years (30 in total)\n",
    "    m.run(10*365, restart_dt=365)\n",
    "    m.output.output_to_vtk(output_properties=prop_list, ith_step=t+1)\n",
    "\n",
    "# print timers and statistics for the run\n",
    "m.print_timers()\n",
    "m.print_stat()"
   ]
  },
  {
   "cell_type": "code",
   "execution_count": null,
   "metadata": {},
   "outputs": [],
   "source": [
    "import pandas as pd\n",
    "# output well information to Excel file\n",
    "# td = pd.DataFrame.from_dict(m.physics.engine.time_data)\n",
    "td = pd.DataFrame.from_dict(m.output.store_well_time_data())\n",
    "# convert K to degrees\n",
    "for k in td.keys():\n",
    "    if 'BHT' in k:\n",
    "        td[k] -= 273.15\n",
    "        td = td.rename(columns={k: k.replace('(K)', '(degrees)')})\n",
    "# writer = pd.ExcelWriter('well_time_data.xlsx')\n",
    "# td.to_excel(writer, 'Sheet1')\n",
    "# writer.close()"
   ]
  },
  {
   "cell_type": "code",
   "execution_count": null,
   "metadata": {},
   "outputs": [],
   "source": [
    "import matplotlib.pyplot as plt\n",
    "# plot temperature at production well and technological limit\n",
    "string = f'well_PRD_BHT'\n",
    "ax1 = td.plot(x='time', y=[col for col in td.columns if string in col])\n",
    "ax1.plot([0, 1.1e4],[75, 75])\n",
    "ax1.tick_params(labelsize=14)\n",
    "ax1.set_xlabel('Days', fontsize=14)\n",
    "ax1.legend(['Temperature, C', 'limit'], fontsize=14)\n",
    "plt.grid()\n",
    "plt.show()"
   ]
  },
  {
   "cell_type": "code",
   "execution_count": null,
   "metadata": {},
   "outputs": [],
   "source": [
    "import pyvista as pv\n",
    "import os\n",
    "\n",
    "# get vts data\n",
    "sol = pv.read(os.path.join(m.output_folder,'vtk_files', 'solution_ts3.vts'))\n",
    "\n",
    "# define plotter\n",
    "plotter = pv.Plotter()\n",
    "\n",
    "# set temperature as active scalar\n",
    "sol.set_active_scalars('T,degrees')\n",
    "\n",
    "# add threshold levels\n",
    "thresT = sol.threshold([25, 75], invert=False)\n",
    "\n",
    "# add outline of mesh\n",
    "outline = sol.outline()\n",
    "\n",
    "# add elements to plotter\n",
    "plotter.set_background('#52576c')\n",
    "plotter.add_mesh(outline, color='k')\n",
    "try: # in case there is an issue in PyVista \"'NoneType' object is not callable\"\n",
    "    plotter.add_mesh(thresT, cmap='coolwarm',\n",
    "                     scalar_bar_args={'title':'Temperature (\\N{DEGREE SIGN}C)'})\n",
    "except:\n",
    "    plotter.add_mesh(thresT,\n",
    "                     scalar_bar_args={'title':'Temperature (\\N{DEGREE SIGN}C)'})\n",
    "mesh = pv.read(os.path.join(m.output_folder, 'vtk_files', 'mesh.vts'))\n",
    "mesh.set_active_scalars('permx')\n",
    "# threshold for plotting permeability map\n",
    "thresperm = mesh.threshold([1, 7000], scalars='permx',\n",
    "                           continuous=True)\n",
    "# plot permebility map with opacity\n",
    "plotter.add_mesh(thresperm, scalars='permx', cmap='viridis',\n",
    "                 opacity=0.25,\n",
    "                 scalar_bar_args={'title':'Permeability (mD)'})\n",
    "\n",
    "# add wells as lines\n",
    "ix_coord = (m.iw[0] - 0.5) * m.dx\n",
    "iy_coord = (m.jw[0] - 0.5) * m.dy\n",
    "px_coord = (m.iw[1] - 0.5) * m.dx\n",
    "py_coord = (m.jw[1] - 0.5) * m.dy\n",
    "\n",
    "injline = np.array([[ix_coord, iy_coord, -1700], [ix_coord, iy_coord, -2100]])\n",
    "prodline = np.array([[px_coord, py_coord, -1700], [px_coord, py_coord, -2100]])\n",
    "\n",
    "_ = plotter.add_lines(injline, color='b', name='injector')\n",
    "_ = plotter.add_lines(prodline, color='r', name='producer')\n",
    "_ = plotter.add_axes(line_width=5, labels_off=False)\n",
    "\n",
    "plotter.camera_position = [3,5,2] \n",
    "plotter.camera.zoom(1.3)\n",
    "\n",
    "plotter.show()"
   ]
  },
  {
   "cell_type": "markdown",
   "metadata": {},
   "source": [
    "## <font color='Blue'>Tasks in this workshop:</font>\n",
    "\n",
    "Plot and copy production temperature figure after each task items.\n",
    "\n",
    "1. Load 'PERMX' keyword from file 'perm.in'\n",
    "2. Rerun the simulation, compare lifetime with homegeneous case\n",
    "3. Change location of the wells across the channels\n",
    "4. Rerun and compare the lifetime, explain why it is different\n",
    "\n",
    "More details on geothermal in fluvial reservoirs can be found in https://doi.org/10.1016/j.renene.2021.07.017."
   ]
  }
 ],
 "metadata": {
  "kernelspec": {
   "display_name": "Python 3 (ipykernel)",
   "language": "python",
   "name": "python3"
  },
  "language_info": {
   "codemirror_mode": {
    "name": "ipython",
    "version": 3
   },
   "file_extension": ".py",
   "mimetype": "text/x-python",
   "name": "python",
   "nbconvert_exporter": "python",
   "pygments_lexer": "ipython3",
   "version": "3.10.18"
  }
 },
 "nbformat": 4,
 "nbformat_minor": 4
}
