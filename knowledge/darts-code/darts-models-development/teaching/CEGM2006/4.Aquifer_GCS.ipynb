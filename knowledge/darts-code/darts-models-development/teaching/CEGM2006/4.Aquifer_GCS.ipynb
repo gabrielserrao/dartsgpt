{
 "cells": [
  {
   "cell_type": "markdown",
   "metadata": {},
   "source": [
    "<img style=\"float: left;\" src=\"figures/model4.png\" width=\"25%\">\n",
    "\n",
    "\n",
    "# <font color='Red'> GCS in auquifers </font>"
   ]
  },
  {
   "cell_type": "markdown",
   "metadata": {},
   "source": [
    "## <font color='Blue'>Introduction</font>\n",
    "###  In this exercise, we run simulation in a 2D aquifer.\n",
    "\n",
    "## <font color='blue'>The objectives:</font>\n",
    "Introduce custom <font color='red'>'Model'</font> class based on \n",
    " * Class [DartsModel](https://gitlab.com/open-darts/open-darts/-/blob/development/darts/models/darts_model.py) with base model capabilities\n",
    " * Class [StructReservoir](https://gitlab.com/open-darts/open-darts/-/blob/development/darts/reservoirs/struct_reservoir.py) with structured reservoir\n",
    " * Class [CompositionalPhysics](https://gitlab.com/open-darts/open-darts/-/blob/development/darts/physics/super/physics.py) for compositional physics\n",
    " * Class [PropertyContainer](https://gitlab.com/open-darts/open-darts/-/blob/development/darts/physics/super/property_container.py) for allocating property evaluators needed in simulation\n",
    " * Class [CompositionalOperators](https://gitlab.com/open-darts/open-darts/-/blob/development/darts/physics/super/operator_evaluator.py) for defining OBL operators in simulation\n",
    " \n",
    " \n",
    "Inject CO$_2$ for 2 years and monitor for another 10\n"
   ]
  },
  {
   "cell_type": "markdown",
   "metadata": {},
   "source": [
    "## <font color='blue'>Let's start !</font>\n",
    "### We need to import <font color='red'>engines</font> and nessesary physical properties into the workspace, just like the import of commonly-used modules such as numpy etc."
   ]
  },
  {
   "cell_type": "code",
   "metadata": {},
   "source": [
    "'''Import all important packages from DARTS installation'''\n",
    "import numpy as np\n",
    "import pandas as pd\n",
    "import sys\n",
    "import matplotlib.pyplot as plt\n",
    "\n",
    "from darts.engines import value_vector, redirect_darts_output, sim_params, well_control_iface\n",
    "\n",
    "from darts.reservoirs.struct_reservoir import StructReservoir\n",
    "from darts.models.darts_model import DartsModel\n",
    "\n",
    "from darts.physics.super.physics import Compositional\n",
    "from darts.physics.super.property_container import PropertyContainer\n",
    "\n",
    "from darts.physics.properties.flash import ConstantK\n",
    "from darts.physics.properties.basic import ConstFunc, PhaseRelPerm\n",
    "from darts.physics.properties.density import DensityBasic\n",
    "\n",
    "redirect_darts_output('run.log')"
   ],
   "outputs": [],
   "execution_count": null
  },
  {
   "cell_type": "markdown",
   "metadata": {},
   "source": [
    "## <font color='Blue'>Brief Introduction of model inheritance:</font>\n",
    "\n",
    "* Here create the <font color='red'>'Model' </font>  class, which inherits from <font color='red'>DartsModel</font> (the base class).\n",
    "* It keeps all the functionalities of <font color='red'>DartsModel</font> and can also be extended to add more functionalities.\n",
    "* If a function is redefined in subclass, the function in base class with identical name will be overridden."
   ]
  },
  {
   "cell_type": "code",
   "metadata": {},
   "source": [
    "class Model(DartsModel):\n",
    "    def __init__(self):\n",
    "        # Call base class constructor\n",
    "        super().__init__()\n",
    "\n",
    "        # Measure time spend on reading/initialization\n",
    "        self.timer.node[\"initialization\"].start()\n",
    "\n",
    "    def set_reservoir(self):\n",
    "        nx = 1000\n",
    "        ny = 1\n",
    "        nz = 50\n",
    "        nb = nx * ny * nz\n",
    "        self.dx = 5\n",
    "        self.dz = 1\n",
    "        depth = np.zeros(nb)\n",
    "        n_layer = nx*ny\n",
    "        for k in range(nz):\n",
    "            depth[k*n_layer:(k+1)*n_layer] = 2000 + k * self.dz\n",
    "\n",
    "\n",
    "        self.reservoir = StructReservoir(self.timer, nx, ny, nz, dx=self.dx, dy=100, dz=self.dz,\n",
    "                                    permx=100, permy=100, permz=10, poro=0.2, depth=depth)\n",
    "\n",
    "        self.reservoir.init_reservoir()\n",
    "        \n",
    "        volume = np.array(self.reservoir.mesh.volume, copy=False)\n",
    "        poro = np.array(self.reservoir.mesh.poro, copy=False)\n",
    "        print(\"Pore volume = \" + str(sum(volume * poro)))\n",
    "\n",
    "        # add large volume to teh last layer to mimic a large auifer\n",
    "        volume[-nz:] = 1e8\n",
    "\n",
    "        return\n",
    "\n",
    "    def set_wells(self, name='I'):\n",
    "        nz = self.reservoir.nz\n",
    "\n",
    "        self.reservoir.add_well(name)\n",
    "        # add well to the middle of active zone\n",
    "        self.reservoir.add_perforation(name, cell_index=(1, 1, 1), well_radius=0.1, well_indexD=0)\n",
    "\n",
    "        return\n",
    "\n",
    "\n",
    "    def set_physics(self):\n",
    "        \"\"\"Physical properties\"\"\"\n",
    "        self.zero = 1e-12\n",
    "        # Create property containers:\n",
    "        components = ['CO2', 'H2O']\n",
    "        phases = ['gas', 'wat']\n",
    "        thermal = 0\n",
    "        Mw = [44.01, 18.015]\n",
    "\n",
    "        property_container = PropertyContainer(phases_name=phases, components_name=components,\n",
    "                                               Mw=Mw, min_z=self.zero / 10, temperature=1.)\n",
    "\n",
    "        \"\"\" properties correlations \"\"\"\n",
    "        property_container.flash_ev = ConstantK(len(components), [80, 1e-2], self.zero)\n",
    "        property_container.density_ev = dict([('gas', DensityBasic(compr=1e-3, dens0=200)),\n",
    "                                              ('wat', DensityBasic(compr=1e-5, dens0=900))])\n",
    "        property_container.viscosity_ev = dict([('gas', ConstFunc(0.05)),\n",
    "                                                ('wat', ConstFunc(0.5))])\n",
    "        property_container.rel_perm_ev = dict([('gas', PhaseRelPerm(\"gas\", sgr=0.1)),\n",
    "                                               ('wat', PhaseRelPerm(\"oil\", swc=0.25))])\n",
    "\n",
    "        \"\"\" Activate physics \"\"\"\n",
    "        self.physics = Compositional(components, phases, self.timer,\n",
    "                                     n_points=200, min_p=1, max_p=400, min_z=self.zero/10, max_z=1-self.zero/10,\n",
    "                                     state_spec=Compositional.StateSpecification.P)\n",
    "        self.physics.add_property_region(property_container)\n",
    "        \n",
    "        return\n",
    "\n",
    "    def set_initial_conditions(self):\n",
    "        self.physics.set_initial_conditions_from_array(mesh=self.reservoir.mesh, input_distribution=self.initial_values)\n",
    "\n",
    "    def set_well_controls(self):\n",
    "        # inject pure CO2\n",
    "        self.inj_stream = [1.0 - self.zero]\n",
    "        \n",
    "        # two types of well control\n",
    "        for i, w in enumerate(self.reservoir.wells):\n",
    "            if 'I' in w.name:\n",
    "                # set injection well control \n",
    "                self.physics.set_well_controls(\n",
    "                    wctrl=w.control, control_type=well_control_iface.MOLAR_RATE, is_inj=True, target=1000, phase_name='gas', \n",
    "                    inj_composition=self.inj_stream)\n",
    "                # set injection well constraint\n",
    "                self.physics.set_well_controls(\n",
    "                    wctrl=w.constraint, control_type=well_control_iface.BHP, is_inj=True, target = 300, inj_composition=self.inj_stream)\n",
    "                \n",
    "            else:\n",
    "                # set production well control \n",
    "                self.physics.set_well_controls(\n",
    "                    wctrl=w.control, control_type=well_control_iface.MOLAR_RATE, is_inj=False, target=1000)\n",
    "                # set production well constraint \n",
    "                self.physics.set_well_controls(\n",
    "                    wctrl=w.constraint, control_type=well_control_iface.BHP, is_inj = False, target = 30)"
   ],
   "outputs": [],
   "execution_count": null
  },
  {
   "cell_type": "code",
   "metadata": {},
   "source": [
    "def plot2D(m):    \n",
    "    nx = m.reservoir.nx\n",
    "    nz = m.reservoir.nz\n",
    "\n",
    "    x = np.linspace(0, nx * m.dx, nx)\n",
    "    y = np.linspace(nz * m.dz, 0, nz)\n",
    "    \n",
    "    time_vector, property_array = m.output.output_properties(engine=True)        \n",
    "\n",
    "    plt.rcParams['pcolor.shading'] ='nearest'\n",
    "    # print_props = [0, 1, 3]\n",
    "    \n",
    "    fig, axs = plt.subplots(len(property_array.keys()), 1, figsize=(6, 6), dpi=100, facecolor='w', edgecolor='k')\n",
    "    for i, ith_prop in enumerate(property_array.keys()):\n",
    "        # plot array defined in active cells only\n",
    "        arr = property_array[ith_prop]\n",
    "        prop = axs[i].pcolor(x, y, arr.reshape(nz, nx))\n",
    "        plt.colorbar(prop, ax=axs[i]) \n",
    "        axs[i].set_title(f'{ith_prop} @ t={time_vector[0]}days')\n",
    "        axs[i].axis('off')        \n",
    "    plt.tight_layout()"
   ],
   "outputs": [],
   "execution_count": null
  },
  {
   "cell_type": "code",
   "metadata": {},
   "source": [
    "m = Model()\n",
    "m.set_reservoir()\n",
    "m.set_physics()\n",
    "m.set_sim_params(first_ts=0.001, mult_ts=2, max_ts=31, runtime=1000, tol_newton=1e-2, tol_linear=1e-3,\n",
    "                 it_newton=12, it_linear=50, newton_type=sim_params.newton_local_chop)\n",
    "\n",
    "\n",
    "m.initial_values = {m.physics.vars[0]: 200,\n",
    "                    m.physics.vars[1]: m.zero}\n",
    "\n",
    "m.init()\n",
    "m.set_output(output_folder='output/Aquifer_GCS')"
   ],
   "outputs": [],
   "execution_count": null
  },
  {
   "cell_type": "code",
   "metadata": {
    "scrolled": true
   },
   "source": [
    "# run simulation for a year\n",
    "m.run(2*365)\n",
    "\n",
    "# print statistics and timers\n",
    "m.print_timers()\n",
    "m.print_stat()"
   ],
   "outputs": [],
   "execution_count": null
  },
  {
   "cell_type": "code",
   "metadata": {},
   "source": [
    "plot2D(m)\n",
    "plt.show()"
   ],
   "outputs": [],
   "execution_count": null
  },
  {
   "cell_type": "code",
   "metadata": {},
   "source": [
    "m.physics.set_well_controls(\n",
    "    wctrl=m.reservoir.wells[0].control, \n",
    "    control_type=well_control_iface.VOLUMETRIC_RATE, \n",
    "    is_inj=True, \n",
    "    target = 0, \n",
    "    phase_name='gas', \n",
    "    inj_composition=m.inj_stream)\n",
    "\n",
    "m.params.max_ts = 93\n",
    "m.run(3650)"
   ],
   "outputs": [],
   "execution_count": null
  },
  {
   "cell_type": "code",
   "metadata": {},
   "source": [
    "plot2D(m)\n",
    "plt.show()"
   ],
   "outputs": [],
   "execution_count": null
  },
  {
   "cell_type": "code",
   "metadata": {},
   "source": [
    "# plot production information\n",
    "td = pd.DataFrame.from_dict(m.output.store_well_time_data())\n",
    "\n",
    "# if we now plot bhp and injection rates you can see that the constraint \n",
    "# of 300bar is activated and only approx. 200m3 of gas is injected\n",
    "well_name = m.reservoir.wells[0].name\n",
    "string = f'well_{well_name}_BHP'\n",
    "ax1 = td.plot(x='time', y=[col for col in td.columns if string in col])\n",
    "ax1.tick_params(labelsize=14)\n",
    "ax1.set_xlabel('Days', fontsize=14)\n",
    "plt.grid()\n",
    "plt.show()\n",
    "\n",
    "ax1 = td.plot(x='time', y=[f'well_{well_name}_volumetric_rate_gas_at_wh'])\n",
    "ax1.tick_params(labelsize=14)\n",
    "ax1.set_xlabel('Days', fontsize=14)\n",
    "plt.grid()\n",
    "plt.show()"
   ],
   "outputs": [],
   "execution_count": null
  },
  {
   "metadata": {},
   "cell_type": "code",
   "source": "",
   "outputs": [],
   "execution_count": null
  }
 ],
 "metadata": {
  "kernelspec": {
   "name": "development",
   "language": "python",
   "display_name": "something"
  },
  "language_info": {
   "codemirror_mode": {
    "name": "ipython",
    "version": 3
   },
   "file_extension": ".py",
   "mimetype": "text/x-python",
   "name": "python",
   "nbconvert_exporter": "python",
   "pygments_lexer": "ipython3",
   "version": "3.9.18"
  }
 },
 "nbformat": 4,
 "nbformat_minor": 4
}
