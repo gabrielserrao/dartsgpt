{
 "cells": [
  {
   "cell_type": "markdown",
   "metadata": {},
   "source": [
    "<div style=\"font-size: 20px\">\n",
    "Two-phase flash calculation"
   ]
  },
  {
   "cell_type": "markdown",
   "metadata": {},
   "source": [
    "<div style=\"font-size: 16px\">\n",
    "1. specify the properties of the components, including critical T, critical P, acentric factor and molecular mass"
   ]
  },
  {
   "cell_type": "code",
   "execution_count": 1,
   "metadata": {},
   "outputs": [],
   "source": [
    "import numpy as np\n",
    "# load the properties of each components with corresponding index\n",
    "def f(component, property):\n",
    "    properties = [[\"CO2\",   \"N2\",    \"H2S\",   \"C1\",   \"C2\",    \"C3\",  \"nC4\", \"iC4\",  \"nC5\",   \"nC6\",   \"nC7\"],\n",
    "                  [304.10,  126.20,  373.53,  190.58, 305.32,  369.8, 425.2, 408.2,  469.7,   507.5,   540.3],  # T_c [K]\n",
    "                  [73.75,   34.00,   89.63,   46.04,  48.72,   42.5,  38,    36.5,   33.7,    30.1,    27.4],   # p_c [bar]\n",
    "                  [0.239,   0.0377,  0.0942,  0.012,  0.0995,  0.153, 0.199, 0.183,  0.251,   0.299,   0.349],  # acentric factor [-]\n",
    "                  [44.01,   28.013,  34.076,  16.043, 30.07,   \"\",    \"\",    \"\",     \"\",      \"\",      \"\"]]     # molecular mass [g/mol]\n",
    "\n",
    "    prop = [\"Tc\", \"Pc\", \"ac\", \"Mw\"]\n",
    "    index1 = prop.index(property) + 1\n",
    "    index2 = properties[0][:].index(component)\n",
    "    c = properties[index1][index2]\n",
    "\n",
    "    return c"
   ]
  },
  {
   "cell_type": "markdown",
   "metadata": {},
   "source": [
    "<div style=\"font-size: 16px\">\n",
    "2. define the function of calculating partitioning coefficients based on Wilson's equation (true for low pressure)"
   ]
  },
  {
   "cell_type": "markdown",
   "metadata": {},
   "source": [
    "<img style=\"float: center;\" src=\"Practical3/partitioning coefficient.jpg\" width=\"25%\">"
   ]
  },
  {
   "cell_type": "markdown",
   "metadata": {},
   "source": [
    "<div style=\"font-size: 16px\">\n",
    "Note here we need to prepare the reduced P and T"
   ]
  },
  {
   "cell_type": "code",
   "execution_count": 2,
   "metadata": {},
   "outputs": [],
   "source": [
    "def vapour_liquid(p, T, z, components): # components -> component name list\n",
    "    NC = np.size(z)\n",
    "    K_VL = np.zeros(NC)\n",
    "    for i in range(0, NC):\n",
    "        K_VL[i] = f(components[i], \"Pc\") / p * np.exp(5.373 * (1 + f(components[i], \"ac\")) *\n",
    "                                                           (1 - f(components[i], \"Tc\") / T))  # K_i = x_V/x_L\n",
    "\n",
    "    return K_VL"
   ]
  },
  {
   "cell_type": "markdown",
   "metadata": {},
   "source": [
    "<div style=\"font-size: 16px\">\n",
    "3. define a function to solve Rachford-Rice equation to find V"
   ]
  },
  {
   "cell_type": "markdown",
   "metadata": {},
   "source": [
    "<img style=\"float: center;\" src=\"Practical3/Rachford-Rice equation.jpg\" width=\"25%\">"
   ]
  },
  {
   "cell_type": "code",
   "execution_count": 3,
   "metadata": {},
   "outputs": [],
   "source": [
    "# two phase negative flash\n",
    "def two_phase_negative_flash(z, K):\n",
    "    # Two-phase negative flash procedure\n",
    "    maxk = np.amax(K)\n",
    "    mink = np.amin(K)\n",
    "    eps = 1E-10\n",
    "    V_low = 1 / (1 - maxk) + eps\n",
    "    V_high = 1 / (1 - mink) - eps\n",
    "    V_mid = (V_low + V_high) / 2\n",
    "\n",
    "    def obj(z, K, V):\n",
    "#         f = (z*(1-K))/(1+(K-1)*V)\n",
    "        f = (z*(K-1))/(1+(K-1)*V)\n",
    "        f = np.sum(f)\n",
    "        return f\n",
    "\n",
    "    iter = 0\n",
    "    while np.absolute(obj(z, K, V_mid)) > 1E-8:\n",
    "        if obj(z, K, V_mid) * obj(z, K, V_low) < 0:\n",
    "            V_high = V_mid\n",
    "        else:\n",
    "            V_low = V_mid\n",
    "        V_mid = (V_high + V_low)/2\n",
    "        iter = iter+1\n",
    "    v = np.array([1-V_mid, V_mid])  # V_mid is molar fraction of non-reference phase\n",
    "    x1 = z/(v[1]*(K-1)+1)\n",
    "    x2 = K*x1\n",
    "    x = np.block([[x1], [x2]])\n",
    "#     print('iter negtive flash %s' % iter)\n",
    "    return v, x"
   ]
  },
  {
   "cell_type": "markdown",
   "metadata": {},
   "source": [
    "<div style=\"font-size: 16px\">\n",
    "4. define a function for fugacity calculation\n",
    "\n",
    "   step 1: calculate $\\alpha$\n",
    "   \n",
    "   <img style=\"float: center;\" src=\"Practical3/calculate alpha.JPG\" width=\"35%\">\n",
    "   \n",
    "   step 2: use combining rule and mixing rule to calculate a and b, and prepare the coefficients A and B (see step 3) in cubic form of EoS \n",
    "   \n",
    "   <img style=\"float: center;\" src=\"Practical3/combining and mixing.JPG\" width=\"35%\">\n",
    "   \n",
    "   step 3: find the roots of cubic EoS (calculate Z)\n",
    "   \n",
    "   <img style=\"float: center;\" src=\"Practical3/cubic EoS.JPG\" width=\"35%\">\n",
    "   \n",
    "   step 4: conducte fugacity calculation\n",
    "   \n",
    "   <img style=\"float: center;\" src=\"Practical3/fugacity.jpg\" width=\"35%\">\n",
    "   \n",
    "   "
   ]
  },
  {
   "cell_type": "code",
   "execution_count": 4,
   "metadata": {},
   "outputs": [],
   "source": [
    "# update K values\n",
    "def k_update_vapour_liquid(p, T, x, components, phase):\n",
    "    Peneloux = True  # perform Peneloux correction for molar volume\n",
    "\n",
    "    # Peng-Robinson EoS\n",
    "    NC = np.size(x)\n",
    "    R = 8.3145E-5\n",
    "\n",
    "    # attraction parameter\n",
    "    ai = np.zeros(NC)\n",
    "    for i in range(0, np.size(ai)):\n",
    "        C_a = 1\n",
    "        Tc = f(components[i], \"Tc\")\n",
    "        Pc = f(components[i], \"Pc\")\n",
    "        ac = f(components[i], \"ac\")\n",
    "        kappa = 0.37464 + 1.54226*ac - 0.26992*ac**2\n",
    "        alpha = (1+C_a*kappa*(1-np.sqrt(T/Tc)))**2\n",
    "        ai[i] = 0.45724*R**2*Tc**2/Pc*alpha\n",
    "    dij = [[\"CO2\",   \"N2\",    \"H2S\",   \"C1\",  \"C2\",    \"C3\",  \"iC4\",  \"nC4\",  \"nC5\",  \"nC6\",  \"nC7\"],  # from Aspen plus (DOI 10.1016/j.fluid.2016.06.012)\n",
    "           [0,       0,       0.1200,  0.105,  0.130,  0.125, 0.1154, 0.1154, 0.1154, 0.1154, 0.115],\n",
    "           [0,       0,       0,       0.025,  0.010,  0.090, 0.1040, 0.1040, 0.1040, 0.1040, 0.110],\n",
    "           [0.1200,  0,       0,       0.080,  0.070,  0.070, 0.0544, 0.0544, 0.0544, 0.0544, 0.050],\n",
    "           [0.105,   0.025,   0.080,   0,      0,      0,     0,      0,      0,      0,      0],\n",
    "           [0.130,   0.010,   0.070,   0,      0,      0,     0,      0,      0,      0,      0],\n",
    "           [0.125,   0.090,   0.070,   0,      0,      0,     0,      0,      0,      0,      0],\n",
    "           [0.1154,  0.104,   0.0544,  0,      0,      0,     0,      0,      0,      0,      0],\n",
    "           [0.1154,  0.104,   0.0544,  0,      0,      0,     0,      0,      0,      0,      0],\n",
    "           [0.1154,  0.104,   0.0544,  0,      0,      0,     0,      0,      0,      0,      0],\n",
    "           [0.1154,  0.104,   0.0544,  0,      0,      0,     0,      0,      0,      0,      0],\n",
    "           [0.115,   0.110,   0.050,   0,      0,      0,     0,      0,      0,      0,      0]]  # binary interaction parameters. dij == dji\n",
    "\n",
    "    aij = np.zeros((NC, NC))\n",
    "    a = 0\n",
    "    for i in range(0, NC):\n",
    "        indexi = dij[0][:].index(components[i]) + 1  #\n",
    "        for j in range(0, NC):\n",
    "            indexj = dij[0][:].index(components[j])\n",
    "            aij[i, j] = (ai[i])**(1/2)*(ai[j])**(1/2)*(1-dij[indexi][indexj])\n",
    "            a += aij[i, j]*x[i]*x[j]\n",
    "    A = a*p/(R**2*T**2)\n",
    "\n",
    "    # repulsion parameter\n",
    "    bi = np.zeros(NC)\n",
    "    b = 0\n",
    "    for i in range(0, NC):\n",
    "        C_b = 1\n",
    "        Tc = f(components[i], \"Tc\")\n",
    "        Pc = f(components[i], \"Pc\")\n",
    "        bi[i] = C_b*0.0778*R*Tc/Pc\n",
    "        b += bi[i]*x[i]\n",
    "\n",
    "    if Peneloux:\n",
    "        # Peneloux volume shift parameter (1982)\n",
    "        c = 0\n",
    "        for i in range(0, NC):\n",
    "            z_ra = 0.29056 - 0.08775 * f(components[i], \"ac\")\n",
    "            c += x[i]*(0.50033 * R * f(components[i], \"Tc\") / f(components[i], \"Pc\") * (0.25969 - z_ra))\n",
    "\n",
    "        b = b - c  # Peneloux correction for b and V\n",
    "    B = b*p/(R*T)\n",
    "\n",
    "    # solve for compressibility Z\n",
    "    Z = np.roots([1, -(1-B), A-3*B**2-2*B, -(A*B-B**2-B**3)])  # 3 real roots: 2-phase region; 1 real root: supercritical??\n",
    "\n",
    "    # interpret solution for Z and calculate fugacity coefficients\n",
    "    if np.sum(np.imag(Z) == 0) == 1:  # supercritical??\n",
    "        index = np.nonzero(np.imag(Z) == 0)  # find real root\n",
    "        Z = np.real(Z[index])   # Z reduces to only the real root\n",
    "    else:\n",
    "        if phase == \"V\":\n",
    "            Z = np.amax(Z)\n",
    "        elif phase == \"L\":\n",
    "            Z = np.amin(Z)\n",
    "        else:\n",
    "            Z = np.amax(Z)\n",
    "    # print(phase, Z)\n",
    "\n",
    "    # fugacity coefficients for either V or L phase\n",
    "    phi_c = np.zeros(NC)\n",
    "    for k in range(0, NC):  # for 2-phase: fugacity coefficient for each phase, based on x and y input\n",
    "        phi_c[k] = np.exp(bi[k] / b * (Z - 1) - np.log(Z - B) - A / (2.828 * B) * (2 * np.sum(x*aij[:, k])\n",
    "                                                    / a - bi[k] / b) * np.log((Z + 2.414 * B) / (Z - 0.414 * B)))\n",
    "\n",
    "\n",
    "    Vm = Z*R*T/p  # molar volume\n",
    "    if Peneloux:\n",
    "        Vm = Vm - c   # Peneloux correction\n",
    "\n",
    "    return phi_c"
   ]
  },
  {
   "cell_type": "markdown",
   "metadata": {},
   "source": [
    "<div style=\"font-size: 16px\">\n",
    "5. conduct two-phase flash calculation using the functions defined above"
   ]
  },
  {
   "cell_type": "code",
   "execution_count": 5,
   "metadata": {},
   "outputs": [
    {
     "name": "stdout",
     "output_type": "stream",
     "text": [
      "V, x: [0.12990488 0.87009512] [[0.91719682 0.06169123 0.02111195]\n",
      " [0.3227827  0.33557941 0.34163788]]\n",
      "K: [ 0.35192305  5.43966141 16.18220048]\n",
      "iterations: 21\n"
     ]
    }
   ],
   "source": [
    "p = 50\n",
    "T = 300\n",
    "phases = [\"V\", \"L\"]\n",
    "components = [\"C1\", \"iC4\", \"nC5\"]\n",
    "z = [0.4, 0.3]\n",
    "z = np.append(z, 1-np.sum(z))\n",
    "\n",
    "NC = np.size(components)\n",
    "NP = np.size(phases)\n",
    "\n",
    "# Initial K-values\n",
    "K = np.zeros((NP-1, NC))\n",
    "K[0, :] = vapour_liquid(p, T, z, components)\n",
    "K = 1/K  # K_VL from vapour_liquid file = x_iV/x_iL -> base phase should be in denominator, so invert\n",
    "\n",
    "\n",
    "converged = 0\n",
    "iter = 0\n",
    "\n",
    "while converged == 0:\n",
    "    # Flash loop\n",
    "    V, x = two_phase_negative_flash(z, K)\n",
    "    if np.sum(V < 0) == 1:  # negative phase fractions\n",
    "        x = np.zeros((NP, NC))\n",
    "        for i in range(0, np.size(V)):\n",
    "            if V[i] < 0:\n",
    "                V[i] = 0\n",
    "            else:\n",
    "                V[i] = 1\n",
    "                x[i, :] = z[:]  # single phase -> mole fractions of present phase equal to composition\n",
    "\n",
    "    if np.count_nonzero(V) == 1:  # single phase\n",
    "        converged = 1\n",
    "    else:\n",
    "        # Update K-values\n",
    "        # Base phase fugacity\n",
    "        phi_c0 = k_update_vapour_liquid(p, T, x[0, :], components, phases[0])\n",
    "\n",
    "        # Phase i fugacity & K-values\n",
    "        phi_c = k_update_vapour_liquid(p, T, x[1, :], components, phases[1])\n",
    "        K1 = phi_c0 / phi_c\n",
    "        # print(K1)\n",
    "\n",
    "        if np.amax(np.abs(K1-K)) < 1E-10:  # converged to equal fugacity\n",
    "            converged = 1\n",
    "\n",
    "        K = K1\n",
    "\n",
    "    iter += 1\n",
    "\n",
    "print(\"V, x:\", V, x)\n",
    "print('K:', K)\n",
    "print(\"iterations:\", iter)"
   ]
  }
 ],
 "metadata": {
  "kernelspec": {
   "display_name": "Python 3 (ipykernel)",
   "language": "python",
   "name": "python3"
  },
  "language_info": {
   "codemirror_mode": {
    "name": "ipython",
    "version": 3
   },
   "file_extension": ".py",
   "mimetype": "text/x-python",
   "name": "python",
   "nbconvert_exporter": "python",
   "pygments_lexer": "ipython3",
   "version": "3.9.7"
  }
 },
 "nbformat": 4,
 "nbformat_minor": 4
}
