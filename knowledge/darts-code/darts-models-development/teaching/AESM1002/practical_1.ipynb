{
 "cells": [
  {
   "cell_type": "markdown",
   "metadata": {},
   "source": [
    "<div style=\"font-size: 25px\">\n",
    "1. We perform an experiment on $CO_2$ in a closed container (V = const) with the following steps:\n",
    "</div>\n",
    "\n",
    "<div style=\"font-size: 20px\">\n",
    "(1)\tThe experiment starts at T = 10°C and p = 100 bars.\n",
    "</div>\n",
    "<div style=\"font-size: 20px\">\n",
    "(2)\tWe differentially (changing volume only, no heat introduction) drop the pressure in container down to p = 1 bar. \n",
    "</div>\n",
    "<div style=\"font-size: 20px\">\n",
    "(3)\tNext, keeping the same T, we increase p up to 100 bars again.\n",
    "</div>\n",
    "<div style=\"font-size: 20px\">\n",
    "(4)\tWe differentially heat container (no volume change) up to T = $10°C$ again. \n",
    "</div>\n",
    "\n",
    "<div style=\"font-size: 20px\">\n",
    "Describe all states of $CO_2$ at each stage of the experiment. Describe also the assumptions you made in order to choose a particular connection path. Use the diagram and report (approximate) changes in p and T connected with the state of $CO_2$ during each stage of experiment. Are we going to arrive to the same state by the end of the experiment? Explain why. \n",
    "</div>\n"
   ]
  },
  {
   "cell_type": "markdown",
   "metadata": {},
   "source": [
    "<img style=\"float: left;\" src=\"Practical1/P1.png\" width=\"100%\">"
   ]
  },
  {
   "cell_type": "markdown",
   "metadata": {
    "collapsed": true,
    "jupyter": {
     "outputs_hidden": true
    }
   },
   "source": [
    "<div style=\"font-size: 25px\">\n",
    "2. Looking at the steam tables for water we found the following points for the Sublimation and Vaporazation curves, respectively. Using the data in the table, please finish the following questions:\n",
    "</div>"
   ]
  },
  {
   "cell_type": "markdown",
   "metadata": {},
   "source": [
    "<div style=\"font-size: 20px\">\n",
    "(1) Verify graphically that Antoine equation with the parameters given below is a good fit within the intended region for the vaporization curve. \n",
    "$\\begin{equation}\n",
    "log_{10}(p_i^{sat})=A-\\frac{B}{C+T}\n",
    "\\end{equation}$"
   ]
  },
  {
   "cell_type": "markdown",
   "metadata": {},
   "source": [
    "<div style=\"font-size: 20px\">\n",
    "Units: p-pressure, mmHg;\n",
    "\n",
    "     T-temperature, °C, range [1,100];\n",
    "     \n",
    "     A = 8.071; B = 1730.63; C = 233.43 "
   ]
  },
  {
   "cell_type": "code",
   "execution_count": null,
   "metadata": {},
   "outputs": [],
   "source": [
    "# load the data which we need\n",
    "import pandas as pd\n",
    "import numpy as np\n",
    "import matplotlib.pyplot as plt\n",
    "\n",
    "font = {'family': 'serif',\n",
    "        'color':  'darkred',\n",
    "        'weight': 'normal',\n",
    "        'size': 16,\n",
    "        }\n",
    "\n",
    "# 1) sublimation and vaporization curve, units in the table: T-Kelvin, P-mmHg\n",
    "data_sub = pd.read_excel(r'Practical1/data.xlsx', sheet_name='Sublimation Curve')\n",
    "data_vap = pd.read_excel(r'Practical1/data.xlsx', sheet_name='Vaporization Curve')\n",
    "print(data_sub)"
   ]
  },
  {
   "cell_type": "code",
   "execution_count": null,
   "metadata": {},
   "outputs": [],
   "source": [
    "# 2) using Antoine equation to check\n",
    "A = 8.071\n",
    "B = 1730.63\n",
    "C = 233.43\n",
    "T = np.linspace(1, 100, 100)\n",
    "P = 10**(A-B/(C+T))\n",
    "\n",
    "plt.figure(figsize=(15, 7))\n",
    "plt.semilogy(data_sub['T'].values, data_sub['P'].values, 'ro')\n",
    "plt.semilogy(data_vap['T'].values, data_vap['P'].values, 'bd')\n",
    "\n",
    "plt.semilogy(T+273, P, 'k')\n",
    "plt.legend(['Sublimation Curve','Vaporization Curve','Antoine'])\n",
    "plt.xlabel('Temperature(K)', fontdict=font)\n",
    "plt.ylabel('Pressure(mmHg)', fontdict=font)\n",
    "plt.show()"
   ]
  },
  {
   "cell_type": "markdown",
   "metadata": {},
   "source": [
    "<div style=\"font-size: 20px\">\n",
    "(2) Fit the sublimation curve using a power function of the form $y$ = $Dx^E$ . Where $y$ is the pressure, $x$ is the  temperature and $D$ and $E$ constants to be determined in the fitting. "
   ]
  },
  {
   "cell_type": "code",
   "execution_count": null,
   "metadata": {},
   "outputs": [],
   "source": [
    "# Here we use Least Squares approach we have learned from the previous course to fit the data\n",
    "# At first we need to tranform the power function to linear function. ln(D) + E*ln(x) = ln(y)\n",
    "# transient flow \n",
    "P_sub = data_sub['P']\n",
    "T_sub = data_sub['T']\n",
    "\n",
    "num_coef = 2\n",
    "num_points = len(P_sub)\n",
    "\n",
    "M = np.ones((num_points, num_coef))\n",
    "\n",
    "for ii in range(num_points):\n",
    "    M[ii, 0] = 1\n",
    "    M[ii, 1] = np.log(T_sub[ii])\n",
    "    \n",
    "\n",
    "rhs = np.zeros((num_points,))\n",
    "rhs[:] = np.log(P_sub)\n",
    "\n",
    "\n",
    "# Solve linear system:\n",
    "solution = np.linalg.solve(np.dot(M.T, M), np.dot(M.T, rhs))\n",
    "print('Final fitting parameters',solution)\n",
    "\n",
    "D = np.exp(solution[0])\n",
    "E = solution[1]\n",
    "\n",
    "# create fitting sublimation curve\n",
    "P_fit = D*T_sub**E\n",
    "\n",
    "plt.figure(figsize=(15, 7))\n",
    "plt.semilogy(data_sub['T'].values, data_sub['P'].values, 'ro')\n",
    "plt.semilogy(data_vap['T'].values, data_vap['P'].values, 'bd')\n",
    "plt.semilogy(T_sub.values, P_fit.values)\n",
    "\n",
    "plt.xlabel('Temperature(K)', fontdict=font)\n",
    "plt.ylabel('Pressure(mmHg)', fontdict=font)\n",
    "plt.show()"
   ]
  },
  {
   "cell_type": "markdown",
   "metadata": {},
   "source": [
    "<div style=\"font-size: 20px\">\n",
    "(3) Finally, determine the triple point of water in $°C$ and $mPa$.( $x °C$ = (273.15 + $x$)$K$; 1$ mmHg$ = 133.32$Pa$)"
   ]
  },
  {
   "cell_type": "code",
   "execution_count": null,
   "metadata": {},
   "outputs": [],
   "source": [
    "# We need to find the intersection point between sublimation curve and vaporization curve\n",
    "# We already know how to use Bisection and Newton approaches to find the solutions. In this case we use bisection\n",
    "\n",
    "# objective function\n",
    "def fobj(T):\n",
    "    sub_curve = D*T**E\n",
    "    vap_curve = 10**(A-B/(C+T-273.15))\n",
    "    diff = sub_curve - vap_curve\n",
    "    return diff\n",
    "\n",
    "\n",
    "# x = np.linspace(250,350,50)\n",
    "# fval = fobj(x)\n",
    "# print(fval)\n",
    "# plt.plot(x, fval)\n",
    "    \n",
    "# bisection approach\n",
    "a = 250   # left boundary\n",
    "b = 350   # right boundary\n",
    "tol = 1e-7\n",
    "itern = 0\n",
    "# bisection method\n",
    "b1 = a\n",
    "b2 = b\n",
    "while True:\n",
    "    mid_point = (b1+b2)/2\n",
    "    if fobj(mid_point)*fobj(b1)<0:\n",
    "        b2=mid_point\n",
    "    else:\n",
    "        b1=mid_point\n",
    "    \n",
    "    itern = itern + 1\n",
    "        \n",
    "    if abs(fobj(mid_point))<tol:\n",
    "        break\n",
    "        \n",
    "c = (b1+b2)/2\n",
    "\n",
    "\n",
    "\n",
    "print('After %i iterations, the triple point of water is found: T = %0.2f K, P = %0.2f mmHg'%(itern,c, 10**(A - B /(c + C - 273.15))))"
   ]
  },
  {
   "cell_type": "markdown",
   "metadata": {},
   "source": [
    "<div style=\"font-size: 20px\">\n",
    "3. Please plot the P-T diagram for pure water component. You can use the sublimation and vaporization curves (analytical curve) you already get in the previous questions. The fusion curve is given below:  \n",
    "\n",
    "$T$ = 273.1$(1-(p-p_t)/m)^n$\n",
    "\n",
    "</div>"
   ]
  },
  {
   "cell_type": "markdown",
   "metadata": {},
   "source": [
    "<div style=\"font-size: 20px\">\n",
    "Units: p-pressure, mmHg;\n",
    "\n",
    "     pt-pressure at the triple point, mmHg;\n",
    "\n",
    "     T-temperature, K;\n",
    "     \n",
    "     m = 1.88e8; n = 0.194 "
   ]
  },
  {
   "cell_type": "code",
   "execution_count": null,
   "metadata": {},
   "outputs": [],
   "source": [
    "Tt = np.linspace(150,600,100)   # unit: K\n",
    "index = 0\n",
    "m = 1.88e8\n",
    "n = 0.194\n",
    "# find the triple point\n",
    "\n",
    "Tv = np.linspace(266.15,600,100)   # unit: K\n",
    "Ts = np.linspace(150,266.15,100)   # unit: K\n",
    "Tf = np.linspace(150,278,100)   # unit: K\n",
    "\n",
    "Pv = 10**(A-B/(C+Tv-273.15))\n",
    "Ps = D*Ts**E\n",
    "Pf = 2.68 + m*(1-(Tf/273.1)**(1/n))\n",
    "\n",
    "plt.figure(figsize=(15, 8))\n",
    "plt.semilogy(Tv, Pv)\n",
    "plt.semilogy(Ts, Ps)\n",
    "plt.semilogy(Tf, Pf)\n",
    "plt.legend(['Vaporization curve', 'Sublimation curve', 'Fushion curve'])\n",
    "plt.xlabel('Temperature, k', fontdict=font)\n",
    "plt.ylabel('Pressure, mmHg', fontdict=font)\n",
    "plt.show()\n",
    "    "
   ]
  },
  {
   "cell_type": "code",
   "execution_count": null,
   "metadata": {},
   "outputs": [],
   "source": []
  }
 ],
 "metadata": {
  "kernelspec": {
   "display_name": "Python 3 (ipykernel)",
   "language": "python",
   "name": "python3"
  },
  "language_info": {
   "codemirror_mode": {
    "name": "ipython",
    "version": 3
   },
   "file_extension": ".py",
   "mimetype": "text/x-python",
   "name": "python",
   "nbconvert_exporter": "python",
   "pygments_lexer": "ipython3",
   "version": "3.9.7"
  }
 },
 "nbformat": 4,
 "nbformat_minor": 4
}
