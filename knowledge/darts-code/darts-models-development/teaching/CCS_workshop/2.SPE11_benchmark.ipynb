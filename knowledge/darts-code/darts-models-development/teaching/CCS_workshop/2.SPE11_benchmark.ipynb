{
 "cells": [
  {
   "cell_type": "markdown",
   "id": "6d177685-96fe-46c2-82dd-9f1a1e2563eb",
   "metadata": {},
   "source": [
    "<img style=\"float: left;\" src=\"figures/model2.png\" width=\"20%\">   \n",
    "\n",
    "# <font color='Red'> SPE11 benchmark </font>"
   ]
  },
  {
   "cell_type": "markdown",
   "id": "119a417d-a69e-46c6-a5a6-35795fb9e5da",
   "metadata": {},
   "source": [
    "## <font color='Blue'>Introduction</font>\n",
    "\n",
    "The SPE11b model is the 2D dimensional reservoir model of the 11th Society of Petroleum Engineers (SPE) comparitive solution project (CSP). The CSP provides a baseline for modelling of geological sequestration of CO2. In this jupyter notebook you will run the SPE11b model in DARTS. \n",
    "\n",
    "## <font color='blue'>The objectives:</font>\n",
    "We use predefined python model using the following files: \n",
    " * File [SPE11 geometry](https://gitlab.com/open-darts/darts-models/-/blob/development/teaching/CCS_workshop/SPE11/fluidflower.py) with main converters and plotters\n",
    " * File [SPE11b discretizer](https://gitlab.com/open-darts/darts-models/-/blob/development/teaching/CCS_workshop/SPE11/fluidflower_str_b.py) based on structured reservoir\n",
    " * File [SPE11 model](https://gitlab.com/open-darts/darts-models/-/blob/development/teaching/CCS_workshop/SPE11/model_b.py) with physics and properties"
   ]
  },
  {
   "cell_type": "code",
   "execution_count": null,
   "id": "56c58688-5669-4f98-bf2d-6070f49871a1",
   "metadata": {},
   "outputs": [],
   "source": [
    "import numpy as np\n",
    "import matplotlib.pyplot as plt\n",
    "\n",
    "from SPE11.model_b import Model, PorPerm, Corey, layer_props\n",
    "from darts.engines import redirect_darts_output, sim_params\n",
    "from SPE11.fluidflower_str_b import FluidFlowerStruct"
   ]
  },
  {
   "cell_type": "markdown",
   "id": "298cb7b4-4898-4245-9665-0a2572484347",
   "metadata": {},
   "source": [
    "## <font color='Blue'>Define the physics and parameters</font>\n",
    "\n",
    "In the physics class of the `DartsModel()` all the thermodynamic and phase properties of the model are defined. These are assembled with the `PropertyContainer()` class and subsequently accessed by the `Physics()` class to compute supporting points for interpolation. Here we use the `Compositional()` class, that uses a generalized thermo-compsitional formulation that can be tailored to DeadOil, Compositional and CCS applications. To control the number of OBL supporting points change the parameter `n_points`. "
   ]
  },
  {
   "cell_type": "code",
   "execution_count": null,
   "id": "76d73603-01fc-4925-8329-30e01354914c",
   "metadata": {},
   "outputs": [],
   "source": [
    "# For each of the facies within the SPE11b model we define a set of operators in the physics.\n",
    "property_regions  = [0, 1, 2, 3, 4, 5, 6] \n",
    "layers_to_regions = {\"1\": 0, \"2\": 1, \"3\": 2, \"4\": 3, \"5\": 4, \"6\": 5, \"7\": 6}\n",
    "\n",
    "# define the Corey parameters for each layer (rock type) according to the technical description of the CSP\n",
    "corey = {\n",
    "    0: Corey(nw=1.5, ng=1.5, swc=0.32, sgc=0.10, krwe=1.0, krge=1.0, labda=2., p_entry=1.935314, pcmax=300, c2=1.5),\n",
    "    1: Corey(nw=1.5, ng=1.5, swc=0.14, sgc=0.10, krwe=1.0, krge=1.0, labda=2., p_entry=0.08655, pcmax=300, c2=1.5),\n",
    "    2: Corey(nw=1.5, ng=1.5, swc=0.12, sgc=0.10, krwe=1.0, krge=1.0, labda=2., p_entry=0.0612, pcmax=300, c2=1.5),\n",
    "    3: Corey(nw=1.5, ng=1.5, swc=0.12, sgc=0.10, krwe=1.0, krge=1.0, labda=2., p_entry=0.038706, pcmax=300, c2=1.5),\n",
    "    4: Corey(nw=1.5, ng=1.5, swc=0.12, sgc=0.10, krwe=1.0, krge=1.0, labda=2., p_entry=0.0306, pcmax=300, c2=1.5),\n",
    "    5: Corey(nw=1.5, ng=1.5, swc=0.10, sgc=0.10, krwe=1.0, krge=1.0, labda=2., p_entry=0.025602, pcmax=300, c2=1.5),\n",
    "    6: Corey(nw=1.5, ng=1.5, swc=1e-8, sgc=0.10, krwe=1.0, krge=1.0, labda=2., p_entry=1e-2, pcmax=300, c2=1.5)\n",
    "}\n",
    "\n",
    "redirect_darts_output('model2.log') # redirects run.log to your directory of choice instead of prininting everything off\n",
    "\n",
    "\"\"\"Define realization ID\"\"\"\n",
    "model_specs = [\n",
    "    {'structured': True, \n",
    "     'thickness': False, \n",
    "     'curvature': False, \n",
    "     'tpfa': True, \n",
    "     'capillary': True, \n",
    "     'nx': 170, \n",
    "     'nz': 60, \n",
    "     'output_dir': 'SPE11_output'},\n",
    "]\n",
    "\n",
    "j = 0\n",
    "specs = model_specs[j]  \n",
    "m = Model() \n",
    "\n",
    "\"\"\"Define physics\"\"\"\n",
    "zero = 1e-10\n",
    "m.set_physics(corey=corey, zero=zero, temperature=323.15, n_points=1001, diff=1e-9)\n",
    "\n",
    "# solver paramters \n",
    "m.set_sim_params(first_ts=1e-2, mult_ts=2, max_ts=365, tol_linear=1e-3, tol_newton=1e-3,\n",
    "                 it_linear=50, it_newton=12, newton_type=sim_params.newton_global_chop)\n",
    "m.params.newton_params[0] = 0.05\n",
    "m.params.nonlinear_norm_type = m.params.L1"
   ]
  },
  {
   "cell_type": "markdown",
   "id": "45cef939-9fbd-4091-b869-c6b0ff59471a",
   "metadata": {},
   "source": [
    "## <font color='Blue'>Define the reservoir</font>\n",
    "\n",
    "The 11b model is a reservoir model at reservoir conditions. The horizontal and vertical extent of the model are equal to 8400m and 1200m. To start the the total number of grid blocks is limited to 10K. Feel free to play with the nx and nz paramters and change the resolution of the model. Within the reservoir we can clearly identify two low permeability layers that will function as capillary barriers in the storage reservoir."
   ]
  },
  {
   "cell_type": "code",
   "execution_count": null,
   "id": "63841e4f-bfd4-4606-a8d7-e08cb439f518",
   "metadata": {},
   "outputs": [],
   "source": [
    "\"\"\"Define the reservoir and wells \"\"\"\n",
    "well_centers = {\n",
    "    \"I1\": [2700.0, 0.0, 300.0],\n",
    "    \"I2\": [5100.0, 0.0, 700.0]\n",
    "}\n",
    "\n",
    "structured = specs['structured']\n",
    "m.reservoir = FluidFlowerStruct(timer=m.timer, layer_properties=layer_props, layers_to_regions=layers_to_regions,\n",
    "                                model_specs=specs, well_centers=well_centers) # structured reservoir \n",
    "\n",
    "\n",
    "grid = np.meshgrid(np.linspace(0, 8400, m.reservoir.nx), np.linspace(0, 1200, m.reservoir.nz))\n",
    "\n",
    "plt.figure(figsize = (10, 2))\n",
    "plt.title('Porosity')\n",
    "c = plt.pcolor(grid[0], grid[1], m.reservoir.global_data['poro'].reshape(m.reservoir.nz, m.reservoir.nx))\n",
    "plt.colorbar(c)\n",
    "plt.xlabel('x [m]') \n",
    "plt.ylabel('z [m]')\n",
    "plt.show() "
   ]
  },
  {
   "cell_type": "markdown",
   "id": "758a64cd-bfce-465d-bc2f-02485ec2da69",
   "metadata": {},
   "source": [
    "## <font color='Blue'>Validate properties</font>\n",
    "\n",
    "Properties can be evaluated via the property container. In this example xCO2 (dissolved CO2 in Aqueous phase) and aqueous phase density are evaluated for different pressures at the injection temperature 10C. Change the temperatue and see how it effects density and solubility of CO2 in the aqueous phase. Note xi denotes the mole fraction of component i in liquid and yi the mole fraction of component i in gas. "
   ]
  },
  {
   "cell_type": "code",
   "execution_count": null,
   "id": "f8cdb040-dad9-4a94-bb93-62936e7114be",
   "metadata": {},
   "outputs": [],
   "source": [
    "facies = 0\n",
    "property_container = m.physics.property_containers[facies]\n",
    "component_names = property_container.components_name\n",
    "phase_names = property_container.phases_name\n",
    "\n",
    "temperature = [10, 50,  100] # celsius\n",
    "pressure = np.linspace(200, 450, 10) # bar\n",
    "zc = 0.15\n",
    "\n",
    "x = np.zeros(pressure.shape)\n",
    "dens = np.zeros(pressure.shape)\n",
    "phase = 1 # phase \n",
    "component = 1 # component\n",
    "\n",
    "fig, (ax1, ax2) = plt.subplots(1, 2, figsize=(9, 4))\n",
    "for t in temperature:\n",
    "    for i, p in enumerate(pressure): \n",
    "        property_container.run_flash(p, 273.15+t, [zc, 1-zc])\n",
    "        x[i] = property_container.x[phase, component]\n",
    "        dens[i] = property_container.density_ev['Aq'].evaluate(p, 273.15+t, property_container.x[phase, :])\n",
    "        \n",
    "    ax1.grid()\n",
    "    ax1.plot(pressure, x, label=f\"{t} C\")\n",
    "    ax1.set_xlabel(\"Pressure (bar)\")\n",
    "    ax1.set_ylabel(f\"x{component_names[component]}\" if phase == 1 else f\"y{component_names[component]}\" )\n",
    "    ax1.legend()\n",
    "    ax2.grid()\n",
    "    ax2.plot(pressure, dens, label=f\"{t} C\")\n",
    "    ax2.set_xlabel(\"Pressure (bar)\")\n",
    "    ax2.set_ylabel(f\"Density {phase_names[phase]} (kg/m³)\")\n",
    "    ax2.legend()\n",
    "    plt.subplots_adjust(wspace = 0.4)\n",
    "plt.show()"
   ]
  },
  {
   "cell_type": "markdown",
   "id": "6e22dd06-9b52-4370-91d3-3d123f47177d",
   "metadata": {},
   "source": [
    "## <font color='Blue'>Initialize the model</font>"
   ]
  },
  {
   "cell_type": "code",
   "execution_count": null,
   "id": "be24cbed-5b7e-4017-821f-12a869cfefb3",
   "metadata": {},
   "outputs": [],
   "source": [
    "\"\"\" Define initial and boundary conditions \"\"\"\n",
    "# define initial pressure, composition and temperature of the reservoir\n",
    "pres_in = 212\n",
    "pres_grad = 0.09775\n",
    "temp_in = 323.15\n",
    "temp_grad = 0.\n",
    "m.input_depth = [0., 1000.]\n",
    "m.input_distribution = {\"pressure\": [pres_in, pres_in + pres_grad * m.input_depth[1]],\n",
    "                        \"H2O\": 1. - zero,\n",
    "                        \"temperature\": [temp_in, temp_in + temp_grad * m.input_depth[1]]}\n",
    "\n",
    "# define injection stream of the wells \n",
    "m.inj_stream = [zero] \n",
    "\n",
    "inj_rate = 3024 # mass rate per well, kg/day\n",
    "m.inj_rate = [0, 0] # per well\n",
    "\n",
    "m.set_str_boundary_volume_multiplier()  # right and left boundary volume multiplier\n",
    "\n",
    "# now that your reservoir and physics is defined, you can init your DartsModel()\n",
    "output_dir = specs['output_dir']\n",
    "m.platform = 'cpu' \n",
    "m.init(discr_type='tpfa', platform=m.platform)\n",
    "m.set_output(output_folder = 'output/SPE11', save_initial=False, verbose=True)\n",
    "\n",
    "# equillibration step \n",
    "m.run(365, save_well_data=False, verbose = False) \n",
    "m.physics.engine.t = 0 # return engine time to zero"
   ]
  },
  {
   "cell_type": "markdown",
   "id": "a476e303-2ad0-42b2-b794-a8d546ecd5c4",
   "metadata": {},
   "source": [
    "## <font color='Blue'>Run the model</font>"
   ]
  },
  {
   "cell_type": "markdown",
   "id": "308db230-ed07-4841-9032-96cd242d64b6",
   "metadata": {},
   "source": [
    "The model is run for 1000 years. Injection in well 1 (bottom well) starts in year 0 and continues untill year 50. In year 25 injection at well 2 (top well) starts and ends in year 50."
   ]
  },
  {
   "cell_type": "code",
   "execution_count": null,
   "id": "4d668ffb-c186-470c-bb9f-96b63fde962e",
   "metadata": {},
   "outputs": [],
   "source": [
    "m.inj_rate = [inj_rate, 0] # [well 1, well 2]\n",
    "Nt = 20 # 100 years with output every 5 years\n",
    "import time \n",
    "\n",
    "start = time.time()\n",
    "for i in range(Nt):\n",
    "    m.run(5*365, save_well_data=False, verbose = True) # run model for 1 year\n",
    "    \n",
    "    if m.physics.engine.t >= 25 * 365 and m.physics.engine.t < 50 * 365:\n",
    "        # At 25 years, start injecting in the second well\n",
    "        m.inj_rate = [inj_rate, inj_rate]  \n",
    "    \n",
    "    elif m.physics.engine.t >= 50 * 365:\n",
    "        # At 50 years, stop injection for both wells\n",
    "        m.inj_rate = [0, 0]    \n",
    "stop = time.time()\n",
    "print(\"Runtime = %3.2f sec\" % (stop - start))"
   ]
  },
  {
   "cell_type": "markdown",
   "id": "97c53717-184b-4bf4-95f5-785b790f1c54",
   "metadata": {
    "slideshow": {
     "slide_type": ""
    },
    "tags": []
   },
   "source": [
    "## <font color='Blue'>Postprocess solution</font>"
   ]
  },
  {
   "cell_type": "code",
   "execution_count": null,
   "id": "59650609-fed0-4f98-936c-ce9678ef1a15",
   "metadata": {},
   "outputs": [],
   "source": [
    "nx, nz = m.reservoir.nx, m.reservoir.nz  # grid dimensions\n",
    "M_H2O = m.physics.property_containers[0].Mw[0] # molar mass water in kg/kmol \n",
    "M_CO2 = m.physics.property_containers[0].Mw[1] # molar mass CO2 in kg/kmol\n",
    "PV = np.array(m.reservoir.mesh.volume)[1] * np.array(m.reservoir.mesh.poro) # pore volume \n",
    "\n",
    "# Generate some example data to animate\n",
    "prop_list = m.physics.vars + m.output.properties; print(prop_list)\n",
    "\n",
    "# evaluate properties at all the saved time steps, according to the listed properties in prop_list\n",
    "time_vector, property_array = m.output.output_properties(output_properties = prop_list, timestep = None) \n",
    "\n",
    "mass_co2 = np.zeros((len(time_vector), nx*nz))\n",
    "mass_co2_v = np.zeros((len(time_vector), nx*nz))\n",
    "mass_co2_aq = np.zeros((len(time_vector), nx*nz))\n",
    "for i in range(len(time_vector)):    \n",
    "    # vapour mass fraction \n",
    "    wco2 = property_array['yCO2'][i] * M_CO2 / (property_array['yCO2'][i] * M_CO2 + (1 - property_array['yCO2'][i]) * M_H2O) \n",
    "\n",
    "    # mass of CO2 in the aqueous phase \n",
    "    mass_co2_aq[i,:] = PV * (1 - property_array['satV'][i]) * property_array['xCO2'][i] * property_array['rho_mA'][i] * M_CO2\n",
    "\n",
    "    # mass of CO2 in the vapor phase \n",
    "    mass_co2_v[i,:] = PV * property_array['satV'][i] * property_array['rhoV'][i] * wco2\n",
    "\n",
    "    # total mass of CO2 in kton \n",
    "    mass_co2[i,:] = (mass_co2_aq[i,:] + mass_co2_v[i,:])/1e6\n",
    "\n",
    "# since the property array is a dictionary it can easily be appended with the calculated values\n",
    "property_array['mass_co2'] = mass_co2\n",
    "property_array['mass_co2_v'] = mass_co2_v\n",
    "property_array['mass_co2_aq'] = mass_co2_aq\n",
    "print(property_array.keys())\n",
    "m.output.save_property_array(time_vector, property_array) # and the property_array can be saved as a compressed HDF5 file in m.output_folder "
   ]
  },
  {
   "cell_type": "markdown",
   "id": "5e2e642f-bb1d-4678-a6ec-c2f846d26548",
   "metadata": {},
   "source": [
    "## <font color='Blue'>Plot animation</font>"
   ]
  },
  {
   "cell_type": "code",
   "execution_count": null,
   "id": "192ee878-2770-449e-b963-f030496b24b6",
   "metadata": {},
   "outputs": [],
   "source": [
    "from matplotlib.animation import FuncAnimation\n",
    "\n",
    "data = [property_array['mass_co2'][i].reshape(nz, nx) for i in range(len(time_vector))]\n",
    "\n",
    "# Initialize the figure and color plot\n",
    "fig, ax = plt.subplots(figsize=(16, 4))\n",
    "pcolor_plot = ax.pcolor(grid[0], grid[1], data[0], vmin = data[1].min(), vmax = 0.2, cmap = 'jet')\n",
    "plt.colorbar(pcolor_plot, ax=ax)\n",
    "ax.set_xlabel(\"x [m]\")\n",
    "ax.set_ylabel(\"z [m]\")\n",
    "\n",
    "# Define the update function for animation\n",
    "def update(frame):\n",
    "    ax.set_title(f\"mCO2 @ year {frame*5}\")\n",
    "    pcolor_plot.set_array(data[frame].ravel())  # Update the data\n",
    "    return pcolor_plot,\n",
    "\n",
    "# Create the animation\n",
    "ani = FuncAnimation(fig, update, frames=len(time_vector), blit=True)\n",
    "\n",
    "# Display the animation in the Jupyter Notebook\n",
    "from IPython.display import HTML\n",
    "HTML(ani.to_jshtml())"
   ]
  },
  {
   "cell_type": "markdown",
   "id": "11a624d4-16b0-45df-bb32-5ecc47759ac6",
   "metadata": {},
   "source": [
    "## <font color='Blue'>Tasks in this workshop (check and explain why solution behave this way):</font>\n",
    "\n",
    "1. Run simulation up to 1000 years.\n",
    "2. Increase the temperature by 50 degrees.\n",
    "3. Check what happened if diffusion is 1 order higher."
   ]
  },
  {
   "cell_type": "markdown",
   "id": "8ece8ed5-ed95-4b39-a9d0-654d5fbc8aa4",
   "metadata": {},
   "source": [
    "More details on the SPE11 benchmark can be found at https://www.spe.org/en/csp/."
   ]
  }
 ],
 "metadata": {
  "kernelspec": {
   "display_name": "Python 3 (ipykernel)",
   "language": "python",
   "name": "python3"
  },
  "language_info": {
   "codemirror_mode": {
    "name": "ipython",
    "version": 3
   },
   "file_extension": ".py",
   "mimetype": "text/x-python",
   "name": "python",
   "nbconvert_exporter": "python",
   "pygments_lexer": "ipython3",
   "version": "3.10.18"
  }
 },
 "nbformat": 4,
 "nbformat_minor": 5
}
