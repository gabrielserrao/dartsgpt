{
 "cells": [
  {
   "cell_type": "markdown",
   "id": "24eb4232-2f5d-4ea2-a3ae-f03e5cb7c43f",
   "metadata": {},
   "source": [
    "<img style=\"float: left;\" src=\"figures/model3.png\" width=\"20%\">   \n",
    "\n",
    "# <font color='Red'>   CCS in depleted field </font>"
   ]
  },
  {
   "cell_type": "markdown",
   "id": "76e81442-0479-4057-b6f3-2f2e7e9fc1fd",
   "metadata": {},
   "source": [
    "## <font color='Blue'>Introduction</font>\n",
    "\n",
    "In this notebook, we work on an example of CO2 sequestration in a depleted gas reservoir. Here again, we will be using predefined Python model from teh following files:\n",
    " * File [radial near-well model](https://gitlab.com/open-darts/darts-models/-/blob/development/teaching/CCS_workshop/Porthos/nearwellbore.py) with structure and unstructured discretizers and plotters \n",
    " * File [model](https://gitlab.com/open-darts/darts-models/-/blob/development/teaching/CCS_workshop/depleted/model.py) defining reservoir, physics, wells and output\n",
    "\n",
    "\n",
    "To start import all the necessary Python modules and files."
   ]
  },
  {
   "cell_type": "code",
   "execution_count": null,
   "id": "d356d8f8-53b1-4994-99cf-837c2dee3e66",
   "metadata": {},
   "outputs": [],
   "source": [
    "import matplotlib.pyplot as plt\n",
    "import numpy as np\n",
    "import pandas as pd\n",
    "\n",
    "from darts.engines import value_vector, redirect_darts_output\n",
    "from depleted.model import Model\n",
    "\n",
    "redirect_darts_output('model3.log')"
   ]
  },
  {
   "cell_type": "markdown",
   "id": "3ca72721-5d79-452b-8514-e7a045f30677",
   "metadata": {},
   "source": [
    "## <font color='Blue'>Reservoir parameters</font>\n",
    "\n",
    "Here we use a radial near-well model and define our reservoir."
   ]
  },
  {
   "cell_type": "code",
   "execution_count": null,
   "id": "70f140d1-8a26-4f98-8815-201d143091c3",
   "metadata": {},
   "outputs": [],
   "source": [
    "# define the model\n",
    "m = Model()\n",
    "\n",
    "(nr, nz) = (100, 24)\n",
    "if 1:\n",
    "    case = 'depleted_gas_field'\n",
    "    poro = np.ones((nr, nz)) * 0.2\n",
    "    perm = np.ones((nr, nz)) * 20\n",
    "\n",
    "else:\n",
    "    case = 'Porthos'\n",
    "    poro = np.ones((nr, nz)) * 0.075\n",
    "    perm = np.ones((nr, nz)) * 0.29\n",
    "    # upper detfurth\n",
    "    perm[:, :16] = 12.6\n",
    "    # hardegsen\n",
    "    poro[:, :10] = 0.09\n",
    "    perm[:, :10] = 24\n",
    "    # hardegsen high perm\n",
    "    poro[:, :8] = 0.2\n",
    "    perm[:, :8] = 240\n",
    "    # hardegsen\n",
    "    poro[:, :6] = 0.09\n",
    "    perm[:, :6] = 24\n",
    "    # caprock\n",
    "    poro[:, :4] = 0.01\n",
    "    perm[:, :4] = 0.01\n",
    "\n",
    "m.set_reservoir_radial(nr=nr, dr=5, nz=nz, dz=5, poro=poro.flatten(order='F'), perm=perm.flatten(order='F'))"
   ]
  },
  {
   "cell_type": "markdown",
   "id": "edd98ac2-e5a2-42ad-8240-894bb5e68ed6",
   "metadata": {},
   "source": [
    "## <font color='Blue'>Initialize the model</font>"
   ]
  },
  {
   "cell_type": "code",
   "execution_count": null,
   "id": "bdfe1079-1cfd-467f-a65b-5d7b5ce4ac16",
   "metadata": {},
   "outputs": [],
   "source": [
    "# define physics\n",
    "zero = 1e-12\n",
    "m.swc = 0.25\n",
    "m.set_physics(zero, n_points=1001, components=[\"CO2\", \"C1\", \"H2O\"])\n",
    "\n",
    "# simulation parameters\n",
    "m.set_sim_params(first_ts=1e-4, mult_ts=4, max_ts=365, tol_newton=1e-3, tol_linear=1e-6, \n",
    "                 it_newton=16, it_linear=50)\n",
    "\n",
    "# injection conditions\n",
    "m.inj_stream = [1 - 2 * zero, zero, 320]\n",
    "m.p_inj = 60.\n",
    "m.p_init = 40.\n",
    "\n",
    "# find saturation corresponding with composition\n",
    "z_range = np.linspace(zero, 1 - zero, 10000)\n",
    "for z in z_range:\n",
    "    state = [m.p_init, zero, z, 370]\n",
    "    sat = m.physics.property_containers[0].compute_saturation_full(state)\n",
    "    if m.physics.property_containers[0].sat[m.physics.phases.index(\"Aq\")] < m.swc:\n",
    "        break\n",
    "\n",
    "# initial conditions\n",
    "m.initial_values = {\"pressure\": state[0],\n",
    "                    \"CO2\": state[1],\n",
    "                    \"C1\": state[2],\n",
    "                    \"temperature\": state[3],\n",
    "                    }\n",
    "\n",
    "# initialization of model\n",
    "m.init()\n",
    "m.set_output(output_folder = 'output/' + case)"
   ]
  },
  {
   "cell_type": "markdown",
   "id": "6ac561b5-a5c4-40d6-947a-8d267c13d7e4",
   "metadata": {},
   "source": [
    "## <font color='Blue'>Run the model</font>\n",
    "\n",
    "We run the model for 5 years and output solution every year."
   ]
  },
  {
   "cell_type": "code",
   "execution_count": null,
   "id": "d3e1d042-86d9-403b-9b93-2a5601fb7d3f",
   "metadata": {},
   "outputs": [],
   "source": [
    "output_props = ['satV', 'pressure', 'temperature']\n",
    "m.output_to_vtk(ith_step = 0, output_properties = output_props) # initial conditions \n",
    "\n",
    "for i in range(5):\n",
    "    m.run(365)\n",
    "    m.output_to_vtk(ith_step = i+1, output_properties = output_props) # save a .vtk every year\n",
    "\n",
    "# print timers and statistics for the run\n",
    "m.print_timers()\n",
    "m.print_stat()"
   ]
  },
  {
   "cell_type": "markdown",
   "id": "ef4c5221-33c2-4110-a352-339ff7fa604e",
   "metadata": {},
   "source": [
    "## <font color='Blue'>3D reservoir plot</font>"
   ]
  },
  {
   "cell_type": "code",
   "execution_count": null,
   "id": "95781a46-c56c-4551-ad92-93f28735141c",
   "metadata": {},
   "outputs": [],
   "source": [
    "import pyvista as pv\n",
    "import os\n",
    "\n",
    "# get vts data\n",
    "sol = pv.read(os.path.join(m.output_folder, 'vtk_files', 'solution5.vtk'))\n",
    "\n",
    "# define plotter\n",
    "plotter = pv.Plotter()\n",
    "\n",
    "# set temperature as active scalar\n",
    "sol.set_active_scalars('temperature')\n",
    "\n",
    "# add threshold levels\n",
    "thresT = sol.clip('z', invert=True, )\n",
    "\n",
    "# add outline of mesh\n",
    "outline = sol.outline()\n",
    "\n",
    "# add elements to plotter\n",
    "plotter.set_background('#52576c')\n",
    "plotter.add_mesh(outline, color = 'k')\n",
    "plotter.add_mesh(thresT, cmap = 'coolwarm', show_edges=False)\n",
    "\n",
    "plotter.camera_position = [-3,-5,2] \n",
    "plotter.camera.zoom(1.3)\n",
    "plotter.show()"
   ]
  },
  {
   "cell_type": "markdown",
   "id": "c5493c71-c614-40d1-90af-89acca4ebb93",
   "metadata": {},
   "source": [
    "## <font color='Blue'>Tasks in this workshop (check and explain why solution behave this way):</font>\n",
    "\n",
    "1. Check what happends if initial $P$ is 3 times higher keeping the same $\\Delta P$.\n",
    "2. Return original initial $P$, check what happend if injection $T$ is equal to initial $T$.\n",
    "3. For initial $P$ and $T$ conditions, check the effect of heterogeneity to reservoir cooling."
   ]
  }
 ],
 "metadata": {
  "kernelspec": {
   "display_name": "Python 3 (ipykernel)",
   "language": "python",
   "name": "python3"
  },
  "language_info": {
   "codemirror_mode": {
    "name": "ipython",
    "version": 3
   },
   "file_extension": ".py",
   "mimetype": "text/x-python",
   "name": "python",
   "nbconvert_exporter": "python",
   "pygments_lexer": "ipython3",
   "version": "3.10.18"
  }
 },
 "nbformat": 4,
 "nbformat_minor": 5
}
